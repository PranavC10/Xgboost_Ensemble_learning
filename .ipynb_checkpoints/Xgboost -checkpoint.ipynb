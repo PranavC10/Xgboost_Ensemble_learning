{
 "cells": [
  {
   "cell_type": "code",
   "execution_count": null,
   "metadata": {},
   "outputs": [],
   "source": []
  },
  {
   "cell_type": "code",
   "execution_count": null,
   "metadata": {
    "id": "vNw4ui9wZEqx"
   },
   "outputs": [],
   "source": [
    "!pip install xgboost"
   ]
  },
  {
   "cell_type": "code",
   "execution_count": null,
   "metadata": {
    "id": "bhM5_boPKHxY"
   },
   "outputs": [],
   "source": [
    "import pandas as pd\n",
    "import numpy as np\n",
    "import xgboost as xgb\n",
    "import pickle\n",
    "from sklearn import datasets\n",
    "from xgboost import XGBClassifier\n",
    "from sklearn.metrics import accuracy_score"
   ]
  },
  {
   "cell_type": "code",
   "execution_count": null,
   "metadata": {
    "id": "xSdLuYF2LHn3"
   },
   "outputs": [],
   "source": [
    "# reading the features and the labels\n",
    "data= pd.read_csv('pima-indians-diabetes.csv')"
   ]
  },
  {
   "cell_type": "code",
   "execution_count": null,
   "metadata": {
    "colab": {
     "base_uri": "https://localhost:8080/",
     "height": 255
    },
    "id": "0qmu097yLKvH",
    "outputId": "e97370a0-b673-4d34-f86a-45b645cf79ce"
   },
   "outputs": [
    {
     "data": {
      "text/html": [
       "<div>\n",
       "<style scoped>\n",
       "    .dataframe tbody tr th:only-of-type {\n",
       "        vertical-align: middle;\n",
       "    }\n",
       "\n",
       "    .dataframe tbody tr th {\n",
       "        vertical-align: top;\n",
       "    }\n",
       "\n",
       "    .dataframe thead th {\n",
       "        text-align: right;\n",
       "    }\n",
       "</style>\n",
       "<table border=\"1\" class=\"dataframe\">\n",
       "  <thead>\n",
       "    <tr style=\"text-align: right;\">\n",
       "      <th></th>\n",
       "      <th>Number of times pregnant</th>\n",
       "      <th>Plasma glucose concentration</th>\n",
       "      <th>Diastolic blood pressure (mm Hg)</th>\n",
       "      <th>Triceps skinfold thickness (mm)</th>\n",
       "      <th>2-Hour serum insulin (mu U/ml)</th>\n",
       "      <th>Body mass index (weight in kg/(height in m)^2)</th>\n",
       "      <th>Diabetes pedigree function</th>\n",
       "      <th>Age</th>\n",
       "      <th>Is Diabetic</th>\n",
       "    </tr>\n",
       "  </thead>\n",
       "  <tbody>\n",
       "    <tr>\n",
       "      <th>0</th>\n",
       "      <td>6</td>\n",
       "      <td>148</td>\n",
       "      <td>72</td>\n",
       "      <td>35</td>\n",
       "      <td>0</td>\n",
       "      <td>33.6</td>\n",
       "      <td>0.627</td>\n",
       "      <td>50</td>\n",
       "      <td>1</td>\n",
       "    </tr>\n",
       "    <tr>\n",
       "      <th>1</th>\n",
       "      <td>1</td>\n",
       "      <td>85</td>\n",
       "      <td>66</td>\n",
       "      <td>29</td>\n",
       "      <td>0</td>\n",
       "      <td>26.6</td>\n",
       "      <td>0.351</td>\n",
       "      <td>31</td>\n",
       "      <td>0</td>\n",
       "    </tr>\n",
       "    <tr>\n",
       "      <th>2</th>\n",
       "      <td>8</td>\n",
       "      <td>183</td>\n",
       "      <td>64</td>\n",
       "      <td>0</td>\n",
       "      <td>0</td>\n",
       "      <td>23.3</td>\n",
       "      <td>0.672</td>\n",
       "      <td>32</td>\n",
       "      <td>1</td>\n",
       "    </tr>\n",
       "    <tr>\n",
       "      <th>3</th>\n",
       "      <td>1</td>\n",
       "      <td>89</td>\n",
       "      <td>66</td>\n",
       "      <td>23</td>\n",
       "      <td>94</td>\n",
       "      <td>28.1</td>\n",
       "      <td>0.167</td>\n",
       "      <td>21</td>\n",
       "      <td>0</td>\n",
       "    </tr>\n",
       "    <tr>\n",
       "      <th>4</th>\n",
       "      <td>0</td>\n",
       "      <td>137</td>\n",
       "      <td>40</td>\n",
       "      <td>35</td>\n",
       "      <td>168</td>\n",
       "      <td>43.1</td>\n",
       "      <td>2.288</td>\n",
       "      <td>33</td>\n",
       "      <td>1</td>\n",
       "    </tr>\n",
       "  </tbody>\n",
       "</table>\n",
       "</div>"
      ],
      "text/plain": [
       "   Number of times pregnant  Plasma glucose concentration  ...  Age  Is Diabetic\n",
       "0                         6                           148  ...   50            1\n",
       "1                         1                            85  ...   31            0\n",
       "2                         8                           183  ...   32            1\n",
       "3                         1                            89  ...   21            0\n",
       "4                         0                           137  ...   33            1\n",
       "\n",
       "[5 rows x 9 columns]"
      ]
     },
     "execution_count": 4,
     "metadata": {
      "tags": []
     },
     "output_type": "execute_result"
    }
   ],
   "source": [
    "data.head()"
   ]
  },
  {
   "cell_type": "code",
   "execution_count": null,
   "metadata": {
    "colab": {
     "base_uri": "https://localhost:8080/"
    },
    "id": "liZ65u9hLWs2",
    "outputId": "798bc77b-5167-488a-d6d5-7fb56b617ba0"
   },
   "outputs": [
    {
     "data": {
      "text/plain": [
       "Index(['Number of times pregnant', 'Plasma glucose concentration',\n",
       "       'Diastolic blood pressure (mm Hg)', 'Triceps skinfold thickness (mm)',\n",
       "       '2-Hour serum insulin (mu U/ml)',\n",
       "       'Body mass index (weight in kg/(height in m)^2)',\n",
       "       'Diabetes pedigree function', 'Age', 'Is Diabetic'],\n",
       "      dtype='object')"
      ]
     },
     "execution_count": 5,
     "metadata": {
      "tags": []
     },
     "output_type": "execute_result"
    }
   ],
   "source": [
    "data.columns"
   ]
  },
  {
   "cell_type": "code",
   "execution_count": null,
   "metadata": {
    "id": "4ZKO_3wDLgka"
   },
   "outputs": [],
   "source": [
    "cols = ['Plasma glucose concentration',\n",
    "       'Diastolic blood pressure (mm Hg)', 'Triceps skinfold thickness (mm)',\n",
    "       '2-Hour serum insulin (mu U/ml)',\n",
    "       'Body mass index (weight in kg/(height in m)^2)',\n",
    "       'Diabetes pedigree function', 'Age']"
   ]
  },
  {
   "cell_type": "code",
   "execution_count": null,
   "metadata": {
    "id": "0ux_AqMOLiku"
   },
   "outputs": [],
   "source": [
    "# as mentioned in the data description, the missing values have been replaced by zeroes. So, we are replacing zeroes with nan\n",
    "for col in cols:\n",
    "    data[col]=data[col].replace(0, np.nan)"
   ]
  },
  {
   "cell_type": "code",
   "execution_count": null,
   "metadata": {
    "colab": {
     "base_uri": "https://localhost:8080/"
    },
    "id": "dSaYJKCvLlwi",
    "outputId": "934695a2-19c3-4681-e08c-75fa46717f97"
   },
   "outputs": [
    {
     "data": {
      "text/plain": [
       "Number of times pregnant                            0\n",
       "Plasma glucose concentration                        5\n",
       "Diastolic blood pressure (mm Hg)                   35\n",
       "Triceps skinfold thickness (mm)                   227\n",
       "2-Hour serum insulin (mu U/ml)                    374\n",
       "Body mass index (weight in kg/(height in m)^2)     11\n",
       "Diabetes pedigree function                          0\n",
       "Age                                                 0\n",
       "Is Diabetic                                         0\n",
       "dtype: int64"
      ]
     },
     "execution_count": 8,
     "metadata": {
      "tags": []
     },
     "output_type": "execute_result"
    }
   ],
   "source": [
    "data.isna().sum()"
   ]
  },
  {
   "cell_type": "code",
   "execution_count": null,
   "metadata": {
    "id": "cV1C0otcLqsG"
   },
   "outputs": [],
   "source": [
    "# imputing the missing values\n",
    "data['Plasma glucose concentration']=data['Plasma glucose concentration'].fillna(data['Plasma glucose concentration'].mode()[0])\n",
    "data['Diastolic blood pressure (mm Hg)']=data['Diastolic blood pressure (mm Hg)'].fillna(data['Diastolic blood pressure (mm Hg)'].mode()[0])\n",
    "data['Triceps skinfold thickness (mm)']=data['Triceps skinfold thickness (mm)'].fillna(data['Triceps skinfold thickness (mm)'].mean())\n",
    "data['2-Hour serum insulin (mu U/ml)']=data['2-Hour serum insulin (mu U/ml)'].fillna(data['2-Hour serum insulin (mu U/ml)'].mean())\n",
    "data['Body mass index (weight in kg/(height in m)^2)']=data['Body mass index (weight in kg/(height in m)^2)'].fillna(data['Body mass index (weight in kg/(height in m)^2)'].mean())\n"
   ]
  },
  {
   "cell_type": "code",
   "execution_count": null,
   "metadata": {
    "colab": {
     "base_uri": "https://localhost:8080/"
    },
    "id": "W-raKzZ5LvQS",
    "outputId": "bcbc91ef-3cec-4368-d4f0-6a18091020cb"
   },
   "outputs": [
    {
     "data": {
      "text/plain": [
       "Number of times pregnant                          0\n",
       "Plasma glucose concentration                      0\n",
       "Diastolic blood pressure (mm Hg)                  0\n",
       "Triceps skinfold thickness (mm)                   0\n",
       "2-Hour serum insulin (mu U/ml)                    0\n",
       "Body mass index (weight in kg/(height in m)^2)    0\n",
       "Diabetes pedigree function                        0\n",
       "Age                                               0\n",
       "Is Diabetic                                       0\n",
       "dtype: int64"
      ]
     },
     "execution_count": 10,
     "metadata": {
      "tags": []
     },
     "output_type": "execute_result"
    }
   ],
   "source": [
    "# checking for missing values after imputation\n",
    "data.isna().sum()"
   ]
  },
  {
   "cell_type": "code",
   "execution_count": null,
   "metadata": {
    "id": "ePWeqxFhLxp8"
   },
   "outputs": [],
   "source": [
    "#Separating the feature and the Label columns \n",
    "x=data.drop(labels='Is Diabetic', axis=1)\n",
    "y= data['Is Diabetic']"
   ]
  },
  {
   "cell_type": "code",
   "execution_count": null,
   "metadata": {
    "id": "QdzhZW33L0sF"
   },
   "outputs": [],
   "source": [
    "# as the datapoints differ a lot in magnitude, we'll scale them\n",
    "from sklearn.preprocessing import StandardScaler\n",
    "scaler=StandardScaler()\n",
    "scaled_data=scaler.fit_transform(x)"
   ]
  },
  {
   "cell_type": "code",
   "execution_count": null,
   "metadata": {
    "id": "5SmGNwe1L4E2"
   },
   "outputs": [],
   "source": [
    "from sklearn.model_selection import train_test_split\n",
    "train_x,test_x,train_y,test_y=train_test_split(scaled_data,y,test_size=0.3,random_state=42)"
   ]
  },
  {
   "cell_type": "code",
   "execution_count": null,
   "metadata": {
    "colab": {
     "base_uri": "https://localhost:8080/"
    },
    "id": "XzVToXZ-L6zJ",
    "outputId": "4fddfa50-0c4c-4fbe-ffd0-6fb5cfa9bde9"
   },
   "outputs": [
    {
     "data": {
      "text/plain": [
       "XGBClassifier(base_score=0.5, booster='gbtree', colsample_bylevel=1,\n",
       "              colsample_bynode=1, colsample_bytree=1, gamma=0,\n",
       "              learning_rate=0.1, max_delta_step=0, max_depth=3,\n",
       "              min_child_weight=1, missing=None, n_estimators=100, n_jobs=1,\n",
       "              nthread=None, objective='binary:logistic', random_state=0,\n",
       "              reg_alpha=0, reg_lambda=1, scale_pos_weight=1, seed=None,\n",
       "              silent=None, subsample=1, verbosity=1)"
      ]
     },
     "execution_count": 14,
     "metadata": {
      "tags": []
     },
     "output_type": "execute_result"
    }
   ],
   "source": [
    "# fit model no training data\n",
    "model = XGBClassifier(objective='binary:logistic')\n",
    "model.fit(train_x, train_y)"
   ]
  },
  {
   "cell_type": "code",
   "execution_count": null,
   "metadata": {
    "colab": {
     "base_uri": "https://localhost:8080/"
    },
    "id": "l8yQXPd1L9LP",
    "outputId": "eed759c1-dfeb-4ef4-9d53-019dbb3048a1"
   },
   "outputs": [
    {
     "data": {
      "text/plain": [
       "0.9050279329608939"
      ]
     },
     "execution_count": 15,
     "metadata": {
      "tags": []
     },
     "output_type": "execute_result"
    }
   ],
   "source": [
    "# cheking training accuracy\n",
    "y_pred = model.predict(train_x)\n",
    "predictions = [round(value) for value in y_pred]\n",
    "accuracy = accuracy_score(train_y,predictions)\n",
    "accuracy"
   ]
  },
  {
   "cell_type": "code",
   "execution_count": null,
   "metadata": {
    "colab": {
     "base_uri": "https://localhost:8080/"
    },
    "id": "VSfdDz9GMAgz",
    "outputId": "422ec644-a564-43e0-e1e0-bfce99d19294"
   },
   "outputs": [
    {
     "data": {
      "text/plain": [
       "0.7402597402597403"
      ]
     },
     "execution_count": 16,
     "metadata": {
      "tags": []
     },
     "output_type": "execute_result"
    }
   ],
   "source": [
    "# cheking initial test accuracy\n",
    "y_pred = model.predict(test_x)\n",
    "predictions = [round(value) for value in y_pred]\n",
    "accuracy = accuracy_score(test_y,predictions)\n",
    "accuracy"
   ]
  },
  {
   "cell_type": "markdown",
   "metadata": {
    "id": "wDeVGACSMGMP"
   },
   "source": [
    "# Now to increase the accuracy of the model, we'll do hyperparameter tuning using grid search"
   ]
  },
  {
   "cell_type": "code",
   "execution_count": null,
   "metadata": {
    "id": "ZP3MFvmPMCRd"
   },
   "outputs": [],
   "source": [
    "from sklearn.model_selection import GridSearchCV"
   ]
  },
  {
   "cell_type": "code",
   "execution_count": null,
   "metadata": {
    "id": "0ZB-19fhMUkY"
   },
   "outputs": [],
   "source": [
    "param_grid={\n",
    "   \n",
    "    ' learning_rate':[1,0.5,0.1,0.01,0.001],\n",
    "    'max_depth': [3,5,10,20],\n",
    "    'n_estimators':[10,50,100,200]\n",
    "    \n",
    "}"
   ]
  },
  {
   "cell_type": "code",
   "execution_count": null,
   "metadata": {
    "id": "0BZQVJXGMYSG"
   },
   "outputs": [],
   "source": [
    "grid= GridSearchCV(XGBClassifier(objective='binary:logistic'),param_grid, verbose=3)"
   ]
  },
  {
   "cell_type": "code",
   "execution_count": null,
   "metadata": {
    "colab": {
     "base_uri": "https://localhost:8080/"
    },
    "id": "MDetbrv-Mb6s",
    "outputId": "80866936-5fa5-4a62-879e-4fad5718cc84"
   },
   "outputs": [
    {
     "name": "stdout",
     "output_type": "stream",
     "text": [
      "Fitting 5 folds for each of 80 candidates, totalling 400 fits\n",
      "[CV]  learning_rate=1, max_depth=3, n_estimators=10 ..................\n",
      "[CV]   learning_rate=1, max_depth=3, n_estimators=10, score=0.778, total=   0.0s\n",
      "[CV]  learning_rate=1, max_depth=3, n_estimators=10 ..................\n",
      "[CV]   learning_rate=1, max_depth=3, n_estimators=10, score=0.731, total=   0.0s\n",
      "[CV]  learning_rate=1, max_depth=3, n_estimators=10 ..................\n",
      "[CV]   learning_rate=1, max_depth=3, n_estimators=10, score=0.785, total=   0.0s\n",
      "[CV]  learning_rate=1, max_depth=3, n_estimators=10 ..................\n",
      "[CV]   learning_rate=1, max_depth=3, n_estimators=10, score=0.692, total=   0.0s\n",
      "[CV]  learning_rate=1, max_depth=3, n_estimators=10 ..................\n",
      "[CV]   learning_rate=1, max_depth=3, n_estimators=10, score=0.729, total=   0.0s\n",
      "[CV]  learning_rate=1, max_depth=3, n_estimators=50 ..................\n",
      "[CV]   learning_rate=1, max_depth=3, n_estimators=50, score=0.815, total=   0.0s\n",
      "[CV]  learning_rate=1, max_depth=3, n_estimators=50 ..................\n",
      "[CV]   learning_rate=1, max_depth=3, n_estimators=50, score=0.731, total=   0.0s\n",
      "[CV]  learning_rate=1, max_depth=3, n_estimators=50 ..................\n",
      "[CV]   learning_rate=1, max_depth=3, n_estimators=50, score=0.776, total=   0.0s\n",
      "[CV]  learning_rate=1, max_depth=3, n_estimators=50 ..................\n",
      "[CV]   learning_rate=1, max_depth=3, n_estimators=50, score=0.729, total=   0.0s\n",
      "[CV]  learning_rate=1, max_depth=3, n_estimators=50 ..................\n",
      "[CV]   learning_rate=1, max_depth=3, n_estimators=50, score=0.785, total=   0.0s\n",
      "[CV]  learning_rate=1, max_depth=3, n_estimators=100 .................\n"
     ]
    },
    {
     "name": "stderr",
     "output_type": "stream",
     "text": [
      "[Parallel(n_jobs=1)]: Using backend SequentialBackend with 1 concurrent workers.\n",
      "[Parallel(n_jobs=1)]: Done   1 out of   1 | elapsed:    0.0s remaining:    0.0s\n",
      "[Parallel(n_jobs=1)]: Done   2 out of   2 | elapsed:    0.0s remaining:    0.0s\n"
     ]
    },
    {
     "name": "stdout",
     "output_type": "stream",
     "text": [
      "[CV]   learning_rate=1, max_depth=3, n_estimators=100, score=0.815, total=   0.0s\n",
      "[CV]  learning_rate=1, max_depth=3, n_estimators=100 .................\n",
      "[CV]   learning_rate=1, max_depth=3, n_estimators=100, score=0.722, total=   0.0s\n",
      "[CV]  learning_rate=1, max_depth=3, n_estimators=100 .................\n",
      "[CV]   learning_rate=1, max_depth=3, n_estimators=100, score=0.776, total=   0.0s\n",
      "[CV]  learning_rate=1, max_depth=3, n_estimators=100 .................\n",
      "[CV]   learning_rate=1, max_depth=3, n_estimators=100, score=0.720, total=   0.0s\n",
      "[CV]  learning_rate=1, max_depth=3, n_estimators=100 .................\n",
      "[CV]   learning_rate=1, max_depth=3, n_estimators=100, score=0.785, total=   0.0s\n",
      "[CV]  learning_rate=1, max_depth=3, n_estimators=200 .................\n",
      "[CV]   learning_rate=1, max_depth=3, n_estimators=200, score=0.778, total=   0.1s\n",
      "[CV]  learning_rate=1, max_depth=3, n_estimators=200 .................\n",
      "[CV]   learning_rate=1, max_depth=3, n_estimators=200, score=0.741, total=   0.1s\n",
      "[CV]  learning_rate=1, max_depth=3, n_estimators=200 .................\n",
      "[CV]   learning_rate=1, max_depth=3, n_estimators=200, score=0.757, total=   0.1s\n",
      "[CV]  learning_rate=1, max_depth=3, n_estimators=200 .................\n",
      "[CV]   learning_rate=1, max_depth=3, n_estimators=200, score=0.720, total=   0.1s\n",
      "[CV]  learning_rate=1, max_depth=3, n_estimators=200 .................\n",
      "[CV]   learning_rate=1, max_depth=3, n_estimators=200, score=0.757, total=   0.1s\n",
      "[CV]  learning_rate=1, max_depth=5, n_estimators=10 ..................\n",
      "[CV]   learning_rate=1, max_depth=5, n_estimators=10, score=0.824, total=   0.0s\n",
      "[CV]  learning_rate=1, max_depth=5, n_estimators=10 ..................\n",
      "[CV]   learning_rate=1, max_depth=5, n_estimators=10, score=0.778, total=   0.0s\n",
      "[CV]  learning_rate=1, max_depth=5, n_estimators=10 ..................\n",
      "[CV]   learning_rate=1, max_depth=5, n_estimators=10, score=0.776, total=   0.0s\n",
      "[CV]  learning_rate=1, max_depth=5, n_estimators=10 ..................\n",
      "[CV]   learning_rate=1, max_depth=5, n_estimators=10, score=0.692, total=   0.0s\n",
      "[CV]  learning_rate=1, max_depth=5, n_estimators=10 ..................\n",
      "[CV]   learning_rate=1, max_depth=5, n_estimators=10, score=0.710, total=   0.0s\n",
      "[CV]  learning_rate=1, max_depth=5, n_estimators=50 ..................\n",
      "[CV]   learning_rate=1, max_depth=5, n_estimators=50, score=0.833, total=   0.0s\n",
      "[CV]  learning_rate=1, max_depth=5, n_estimators=50 ..................\n",
      "[CV]   learning_rate=1, max_depth=5, n_estimators=50, score=0.741, total=   0.0s\n",
      "[CV]  learning_rate=1, max_depth=5, n_estimators=50 ..................\n",
      "[CV]   learning_rate=1, max_depth=5, n_estimators=50, score=0.785, total=   0.0s\n",
      "[CV]  learning_rate=1, max_depth=5, n_estimators=50 ..................\n",
      "[CV]   learning_rate=1, max_depth=5, n_estimators=50, score=0.738, total=   0.0s\n",
      "[CV]  learning_rate=1, max_depth=5, n_estimators=50 ..................\n",
      "[CV]   learning_rate=1, max_depth=5, n_estimators=50, score=0.757, total=   0.0s\n",
      "[CV]  learning_rate=1, max_depth=5, n_estimators=100 .................\n",
      "[CV]   learning_rate=1, max_depth=5, n_estimators=100, score=0.769, total=   0.1s\n",
      "[CV]  learning_rate=1, max_depth=5, n_estimators=100 .................\n",
      "[CV]   learning_rate=1, max_depth=5, n_estimators=100, score=0.750, total=   0.1s\n",
      "[CV]  learning_rate=1, max_depth=5, n_estimators=100 .................\n",
      "[CV]   learning_rate=1, max_depth=5, n_estimators=100, score=0.776, total=   0.1s\n",
      "[CV]  learning_rate=1, max_depth=5, n_estimators=100 .................\n",
      "[CV]   learning_rate=1, max_depth=5, n_estimators=100, score=0.720, total=   0.1s\n",
      "[CV]  learning_rate=1, max_depth=5, n_estimators=100 .................\n",
      "[CV]   learning_rate=1, max_depth=5, n_estimators=100, score=0.748, total=   0.1s\n",
      "[CV]  learning_rate=1, max_depth=5, n_estimators=200 .................\n",
      "[CV]   learning_rate=1, max_depth=5, n_estimators=200, score=0.769, total=   0.1s\n",
      "[CV]  learning_rate=1, max_depth=5, n_estimators=200 .................\n",
      "[CV]   learning_rate=1, max_depth=5, n_estimators=200, score=0.759, total=   0.1s\n",
      "[CV]  learning_rate=1, max_depth=5, n_estimators=200 .................\n",
      "[CV]   learning_rate=1, max_depth=5, n_estimators=200, score=0.776, total=   0.1s\n",
      "[CV]  learning_rate=1, max_depth=5, n_estimators=200 .................\n",
      "[CV]   learning_rate=1, max_depth=5, n_estimators=200, score=0.710, total=   0.1s\n",
      "[CV]  learning_rate=1, max_depth=5, n_estimators=200 .................\n",
      "[CV]   learning_rate=1, max_depth=5, n_estimators=200, score=0.729, total=   0.1s\n",
      "[CV]  learning_rate=1, max_depth=10, n_estimators=10 .................\n",
      "[CV]   learning_rate=1, max_depth=10, n_estimators=10, score=0.796, total=   0.0s\n",
      "[CV]  learning_rate=1, max_depth=10, n_estimators=10 .................\n",
      "[CV]   learning_rate=1, max_depth=10, n_estimators=10, score=0.778, total=   0.0s\n",
      "[CV]  learning_rate=1, max_depth=10, n_estimators=10 .................\n",
      "[CV]   learning_rate=1, max_depth=10, n_estimators=10, score=0.738, total=   0.0s\n",
      "[CV]  learning_rate=1, max_depth=10, n_estimators=10 .................\n",
      "[CV]   learning_rate=1, max_depth=10, n_estimators=10, score=0.729, total=   0.0s\n",
      "[CV]  learning_rate=1, max_depth=10, n_estimators=10 .................\n",
      "[CV]   learning_rate=1, max_depth=10, n_estimators=10, score=0.738, total=   0.0s\n",
      "[CV]  learning_rate=1, max_depth=10, n_estimators=50 .................\n",
      "[CV]   learning_rate=1, max_depth=10, n_estimators=50, score=0.778, total=   0.1s\n",
      "[CV]  learning_rate=1, max_depth=10, n_estimators=50 .................\n",
      "[CV]   learning_rate=1, max_depth=10, n_estimators=50, score=0.741, total=   0.0s\n",
      "[CV]  learning_rate=1, max_depth=10, n_estimators=50 .................\n",
      "[CV]   learning_rate=1, max_depth=10, n_estimators=50, score=0.776, total=   0.0s\n",
      "[CV]  learning_rate=1, max_depth=10, n_estimators=50 .................\n",
      "[CV]   learning_rate=1, max_depth=10, n_estimators=50, score=0.748, total=   0.0s\n",
      "[CV]  learning_rate=1, max_depth=10, n_estimators=50 .................\n",
      "[CV]   learning_rate=1, max_depth=10, n_estimators=50, score=0.748, total=   0.0s\n",
      "[CV]  learning_rate=1, max_depth=10, n_estimators=100 ................\n",
      "[CV]   learning_rate=1, max_depth=10, n_estimators=100, score=0.769, total=   0.1s\n",
      "[CV]  learning_rate=1, max_depth=10, n_estimators=100 ................\n",
      "[CV]   learning_rate=1, max_depth=10, n_estimators=100, score=0.731, total=   0.1s\n",
      "[CV]  learning_rate=1, max_depth=10, n_estimators=100 ................\n",
      "[CV]   learning_rate=1, max_depth=10, n_estimators=100, score=0.776, total=   0.1s\n",
      "[CV]  learning_rate=1, max_depth=10, n_estimators=100 ................\n",
      "[CV]   learning_rate=1, max_depth=10, n_estimators=100, score=0.729, total=   0.1s\n",
      "[CV]  learning_rate=1, max_depth=10, n_estimators=100 ................\n",
      "[CV]   learning_rate=1, max_depth=10, n_estimators=100, score=0.766, total=   0.1s\n",
      "[CV]  learning_rate=1, max_depth=10, n_estimators=200 ................\n",
      "[CV]   learning_rate=1, max_depth=10, n_estimators=200, score=0.769, total=   0.1s\n",
      "[CV]  learning_rate=1, max_depth=10, n_estimators=200 ................\n",
      "[CV]   learning_rate=1, max_depth=10, n_estimators=200, score=0.722, total=   0.1s\n",
      "[CV]  learning_rate=1, max_depth=10, n_estimators=200 ................\n",
      "[CV]   learning_rate=1, max_depth=10, n_estimators=200, score=0.766, total=   0.1s\n",
      "[CV]  learning_rate=1, max_depth=10, n_estimators=200 ................\n",
      "[CV]   learning_rate=1, max_depth=10, n_estimators=200, score=0.738, total=   0.1s\n",
      "[CV]  learning_rate=1, max_depth=10, n_estimators=200 ................\n",
      "[CV]   learning_rate=1, max_depth=10, n_estimators=200, score=0.748, total=   0.1s\n",
      "[CV]  learning_rate=1, max_depth=20, n_estimators=10 .................\n",
      "[CV]   learning_rate=1, max_depth=20, n_estimators=10, score=0.787, total=   0.0s\n",
      "[CV]  learning_rate=1, max_depth=20, n_estimators=10 .................\n",
      "[CV]   learning_rate=1, max_depth=20, n_estimators=10, score=0.778, total=   0.0s\n",
      "[CV]  learning_rate=1, max_depth=20, n_estimators=10 .................\n",
      "[CV]   learning_rate=1, max_depth=20, n_estimators=10, score=0.766, total=   0.0s\n",
      "[CV]  learning_rate=1, max_depth=20, n_estimators=10 .................\n",
      "[CV]   learning_rate=1, max_depth=20, n_estimators=10, score=0.720, total=   0.0s\n",
      "[CV]  learning_rate=1, max_depth=20, n_estimators=10 .................\n",
      "[CV]   learning_rate=1, max_depth=20, n_estimators=10, score=0.738, total=   0.0s\n",
      "[CV]  learning_rate=1, max_depth=20, n_estimators=50 .................\n",
      "[CV]   learning_rate=1, max_depth=20, n_estimators=50, score=0.778, total=   0.1s\n",
      "[CV]  learning_rate=1, max_depth=20, n_estimators=50 .................\n",
      "[CV]   learning_rate=1, max_depth=20, n_estimators=50, score=0.731, total=   0.0s\n",
      "[CV]  learning_rate=1, max_depth=20, n_estimators=50 .................\n",
      "[CV]   learning_rate=1, max_depth=20, n_estimators=50, score=0.776, total=   0.1s\n",
      "[CV]  learning_rate=1, max_depth=20, n_estimators=50 .................\n",
      "[CV]   learning_rate=1, max_depth=20, n_estimators=50, score=0.729, total=   0.0s\n",
      "[CV]  learning_rate=1, max_depth=20, n_estimators=50 .................\n",
      "[CV]   learning_rate=1, max_depth=20, n_estimators=50, score=0.757, total=   0.1s\n",
      "[CV]  learning_rate=1, max_depth=20, n_estimators=100 ................\n",
      "[CV]   learning_rate=1, max_depth=20, n_estimators=100, score=0.759, total=   0.1s\n",
      "[CV]  learning_rate=1, max_depth=20, n_estimators=100 ................\n",
      "[CV]   learning_rate=1, max_depth=20, n_estimators=100, score=0.731, total=   0.1s\n",
      "[CV]  learning_rate=1, max_depth=20, n_estimators=100 ................\n",
      "[CV]   learning_rate=1, max_depth=20, n_estimators=100, score=0.748, total=   0.1s\n",
      "[CV]  learning_rate=1, max_depth=20, n_estimators=100 ................\n",
      "[CV]   learning_rate=1, max_depth=20, n_estimators=100, score=0.720, total=   0.1s\n",
      "[CV]  learning_rate=1, max_depth=20, n_estimators=100 ................\n",
      "[CV]   learning_rate=1, max_depth=20, n_estimators=100, score=0.748, total=   0.1s\n",
      "[CV]  learning_rate=1, max_depth=20, n_estimators=200 ................\n",
      "[CV]   learning_rate=1, max_depth=20, n_estimators=200, score=0.787, total=   0.1s\n",
      "[CV]  learning_rate=1, max_depth=20, n_estimators=200 ................\n",
      "[CV]   learning_rate=1, max_depth=20, n_estimators=200, score=0.713, total=   0.1s\n",
      "[CV]  learning_rate=1, max_depth=20, n_estimators=200 ................\n",
      "[CV]   learning_rate=1, max_depth=20, n_estimators=200, score=0.738, total=   0.1s\n",
      "[CV]  learning_rate=1, max_depth=20, n_estimators=200 ................\n",
      "[CV]   learning_rate=1, max_depth=20, n_estimators=200, score=0.720, total=   0.1s\n",
      "[CV]  learning_rate=1, max_depth=20, n_estimators=200 ................\n",
      "[CV]   learning_rate=1, max_depth=20, n_estimators=200, score=0.738, total=   0.1s\n",
      "[CV]  learning_rate=0.5, max_depth=3, n_estimators=10 ................\n",
      "[CV]   learning_rate=0.5, max_depth=3, n_estimators=10, score=0.778, total=   0.0s\n",
      "[CV]  learning_rate=0.5, max_depth=3, n_estimators=10 ................\n",
      "[CV]   learning_rate=0.5, max_depth=3, n_estimators=10, score=0.731, total=   0.0s\n",
      "[CV]  learning_rate=0.5, max_depth=3, n_estimators=10 ................\n",
      "[CV]   learning_rate=0.5, max_depth=3, n_estimators=10, score=0.785, total=   0.0s\n",
      "[CV]  learning_rate=0.5, max_depth=3, n_estimators=10 ................\n",
      "[CV]   learning_rate=0.5, max_depth=3, n_estimators=10, score=0.692, total=   0.0s\n",
      "[CV]  learning_rate=0.5, max_depth=3, n_estimators=10 ................\n",
      "[CV]   learning_rate=0.5, max_depth=3, n_estimators=10, score=0.729, total=   0.0s\n",
      "[CV]  learning_rate=0.5, max_depth=3, n_estimators=50 ................\n",
      "[CV]   learning_rate=0.5, max_depth=3, n_estimators=50, score=0.815, total=   0.0s\n",
      "[CV]  learning_rate=0.5, max_depth=3, n_estimators=50 ................\n",
      "[CV]   learning_rate=0.5, max_depth=3, n_estimators=50, score=0.731, total=   0.0s\n",
      "[CV]  learning_rate=0.5, max_depth=3, n_estimators=50 ................\n",
      "[CV]   learning_rate=0.5, max_depth=3, n_estimators=50, score=0.776, total=   0.0s\n",
      "[CV]  learning_rate=0.5, max_depth=3, n_estimators=50 ................\n",
      "[CV]   learning_rate=0.5, max_depth=3, n_estimators=50, score=0.729, total=   0.0s\n",
      "[CV]  learning_rate=0.5, max_depth=3, n_estimators=50 ................\n",
      "[CV]   learning_rate=0.5, max_depth=3, n_estimators=50, score=0.785, total=   0.0s\n",
      "[CV]  learning_rate=0.5, max_depth=3, n_estimators=100 ...............\n",
      "[CV]   learning_rate=0.5, max_depth=3, n_estimators=100, score=0.815, total=   0.0s\n",
      "[CV]  learning_rate=0.5, max_depth=3, n_estimators=100 ...............\n",
      "[CV]   learning_rate=0.5, max_depth=3, n_estimators=100, score=0.722, total=   0.0s\n",
      "[CV]  learning_rate=0.5, max_depth=3, n_estimators=100 ...............\n",
      "[CV]   learning_rate=0.5, max_depth=3, n_estimators=100, score=0.776, total=   0.0s\n",
      "[CV]  learning_rate=0.5, max_depth=3, n_estimators=100 ...............\n",
      "[CV]   learning_rate=0.5, max_depth=3, n_estimators=100, score=0.720, total=   0.0s\n",
      "[CV]  learning_rate=0.5, max_depth=3, n_estimators=100 ...............\n",
      "[CV]   learning_rate=0.5, max_depth=3, n_estimators=100, score=0.785, total=   0.0s\n",
      "[CV]  learning_rate=0.5, max_depth=3, n_estimators=200 ...............\n",
      "[CV]   learning_rate=0.5, max_depth=3, n_estimators=200, score=0.778, total=   0.1s\n",
      "[CV]  learning_rate=0.5, max_depth=3, n_estimators=200 ...............\n",
      "[CV]   learning_rate=0.5, max_depth=3, n_estimators=200, score=0.741, total=   0.1s\n",
      "[CV]  learning_rate=0.5, max_depth=3, n_estimators=200 ...............\n",
      "[CV]   learning_rate=0.5, max_depth=3, n_estimators=200, score=0.757, total=   0.1s\n",
      "[CV]  learning_rate=0.5, max_depth=3, n_estimators=200 ...............\n",
      "[CV]   learning_rate=0.5, max_depth=3, n_estimators=200, score=0.720, total=   0.1s\n",
      "[CV]  learning_rate=0.5, max_depth=3, n_estimators=200 ...............\n",
      "[CV]   learning_rate=0.5, max_depth=3, n_estimators=200, score=0.757, total=   0.1s\n",
      "[CV]  learning_rate=0.5, max_depth=5, n_estimators=10 ................\n",
      "[CV]   learning_rate=0.5, max_depth=5, n_estimators=10, score=0.824, total=   0.0s\n",
      "[CV]  learning_rate=0.5, max_depth=5, n_estimators=10 ................\n",
      "[CV]   learning_rate=0.5, max_depth=5, n_estimators=10, score=0.778, total=   0.0s\n",
      "[CV]  learning_rate=0.5, max_depth=5, n_estimators=10 ................\n",
      "[CV]   learning_rate=0.5, max_depth=5, n_estimators=10, score=0.776, total=   0.0s\n",
      "[CV]  learning_rate=0.5, max_depth=5, n_estimators=10 ................\n",
      "[CV]   learning_rate=0.5, max_depth=5, n_estimators=10, score=0.692, total=   0.0s\n",
      "[CV]  learning_rate=0.5, max_depth=5, n_estimators=10 ................\n",
      "[CV]   learning_rate=0.5, max_depth=5, n_estimators=10, score=0.710, total=   0.0s\n",
      "[CV]  learning_rate=0.5, max_depth=5, n_estimators=50 ................\n",
      "[CV]   learning_rate=0.5, max_depth=5, n_estimators=50, score=0.833, total=   0.0s\n",
      "[CV]  learning_rate=0.5, max_depth=5, n_estimators=50 ................\n",
      "[CV]   learning_rate=0.5, max_depth=5, n_estimators=50, score=0.741, total=   0.0s\n",
      "[CV]  learning_rate=0.5, max_depth=5, n_estimators=50 ................\n",
      "[CV]   learning_rate=0.5, max_depth=5, n_estimators=50, score=0.785, total=   0.0s\n",
      "[CV]  learning_rate=0.5, max_depth=5, n_estimators=50 ................\n",
      "[CV]   learning_rate=0.5, max_depth=5, n_estimators=50, score=0.738, total=   0.0s\n",
      "[CV]  learning_rate=0.5, max_depth=5, n_estimators=50 ................\n",
      "[CV]   learning_rate=0.5, max_depth=5, n_estimators=50, score=0.757, total=   0.0s\n",
      "[CV]  learning_rate=0.5, max_depth=5, n_estimators=100 ...............\n",
      "[CV]   learning_rate=0.5, max_depth=5, n_estimators=100, score=0.769, total=   0.1s\n",
      "[CV]  learning_rate=0.5, max_depth=5, n_estimators=100 ...............\n",
      "[CV]   learning_rate=0.5, max_depth=5, n_estimators=100, score=0.750, total=   0.1s\n",
      "[CV]  learning_rate=0.5, max_depth=5, n_estimators=100 ...............\n",
      "[CV]   learning_rate=0.5, max_depth=5, n_estimators=100, score=0.776, total=   0.1s\n",
      "[CV]  learning_rate=0.5, max_depth=5, n_estimators=100 ...............\n",
      "[CV]   learning_rate=0.5, max_depth=5, n_estimators=100, score=0.720, total=   0.1s\n",
      "[CV]  learning_rate=0.5, max_depth=5, n_estimators=100 ...............\n",
      "[CV]   learning_rate=0.5, max_depth=5, n_estimators=100, score=0.748, total=   0.1s\n",
      "[CV]  learning_rate=0.5, max_depth=5, n_estimators=200 ...............\n",
      "[CV]   learning_rate=0.5, max_depth=5, n_estimators=200, score=0.769, total=   0.1s\n",
      "[CV]  learning_rate=0.5, max_depth=5, n_estimators=200 ...............\n",
      "[CV]   learning_rate=0.5, max_depth=5, n_estimators=200, score=0.759, total=   0.1s\n",
      "[CV]  learning_rate=0.5, max_depth=5, n_estimators=200 ...............\n",
      "[CV]   learning_rate=0.5, max_depth=5, n_estimators=200, score=0.776, total=   0.1s\n",
      "[CV]  learning_rate=0.5, max_depth=5, n_estimators=200 ...............\n",
      "[CV]   learning_rate=0.5, max_depth=5, n_estimators=200, score=0.710, total=   0.1s\n",
      "[CV]  learning_rate=0.5, max_depth=5, n_estimators=200 ...............\n",
      "[CV]   learning_rate=0.5, max_depth=5, n_estimators=200, score=0.729, total=   0.1s\n",
      "[CV]  learning_rate=0.5, max_depth=10, n_estimators=10 ...............\n",
      "[CV]   learning_rate=0.5, max_depth=10, n_estimators=10, score=0.796, total=   0.0s\n",
      "[CV]  learning_rate=0.5, max_depth=10, n_estimators=10 ...............\n",
      "[CV]   learning_rate=0.5, max_depth=10, n_estimators=10, score=0.778, total=   0.0s\n",
      "[CV]  learning_rate=0.5, max_depth=10, n_estimators=10 ...............\n",
      "[CV]   learning_rate=0.5, max_depth=10, n_estimators=10, score=0.738, total=   0.0s\n",
      "[CV]  learning_rate=0.5, max_depth=10, n_estimators=10 ...............\n",
      "[CV]   learning_rate=0.5, max_depth=10, n_estimators=10, score=0.729, total=   0.0s\n",
      "[CV]  learning_rate=0.5, max_depth=10, n_estimators=10 ...............\n",
      "[CV]   learning_rate=0.5, max_depth=10, n_estimators=10, score=0.738, total=   0.0s\n",
      "[CV]  learning_rate=0.5, max_depth=10, n_estimators=50 ...............\n",
      "[CV]   learning_rate=0.5, max_depth=10, n_estimators=50, score=0.778, total=   0.0s\n",
      "[CV]  learning_rate=0.5, max_depth=10, n_estimators=50 ...............\n",
      "[CV]   learning_rate=0.5, max_depth=10, n_estimators=50, score=0.741, total=   0.0s\n",
      "[CV]  learning_rate=0.5, max_depth=10, n_estimators=50 ...............\n",
      "[CV]   learning_rate=0.5, max_depth=10, n_estimators=50, score=0.776, total=   0.0s\n",
      "[CV]  learning_rate=0.5, max_depth=10, n_estimators=50 ...............\n",
      "[CV]   learning_rate=0.5, max_depth=10, n_estimators=50, score=0.748, total=   0.0s\n",
      "[CV]  learning_rate=0.5, max_depth=10, n_estimators=50 ...............\n",
      "[CV]   learning_rate=0.5, max_depth=10, n_estimators=50, score=0.748, total=   0.1s\n",
      "[CV]  learning_rate=0.5, max_depth=10, n_estimators=100 ..............\n",
      "[CV]   learning_rate=0.5, max_depth=10, n_estimators=100, score=0.769, total=   0.1s\n",
      "[CV]  learning_rate=0.5, max_depth=10, n_estimators=100 ..............\n",
      "[CV]   learning_rate=0.5, max_depth=10, n_estimators=100, score=0.731, total=   0.1s\n",
      "[CV]  learning_rate=0.5, max_depth=10, n_estimators=100 ..............\n",
      "[CV]   learning_rate=0.5, max_depth=10, n_estimators=100, score=0.776, total=   0.1s\n",
      "[CV]  learning_rate=0.5, max_depth=10, n_estimators=100 ..............\n",
      "[CV]   learning_rate=0.5, max_depth=10, n_estimators=100, score=0.729, total=   0.1s\n",
      "[CV]  learning_rate=0.5, max_depth=10, n_estimators=100 ..............\n",
      "[CV]   learning_rate=0.5, max_depth=10, n_estimators=100, score=0.766, total=   0.1s\n",
      "[CV]  learning_rate=0.5, max_depth=10, n_estimators=200 ..............\n",
      "[CV]   learning_rate=0.5, max_depth=10, n_estimators=200, score=0.769, total=   0.1s\n",
      "[CV]  learning_rate=0.5, max_depth=10, n_estimators=200 ..............\n",
      "[CV]   learning_rate=0.5, max_depth=10, n_estimators=200, score=0.722, total=   0.1s\n",
      "[CV]  learning_rate=0.5, max_depth=10, n_estimators=200 ..............\n",
      "[CV]   learning_rate=0.5, max_depth=10, n_estimators=200, score=0.766, total=   0.1s\n",
      "[CV]  learning_rate=0.5, max_depth=10, n_estimators=200 ..............\n",
      "[CV]   learning_rate=0.5, max_depth=10, n_estimators=200, score=0.738, total=   0.1s\n",
      "[CV]  learning_rate=0.5, max_depth=10, n_estimators=200 ..............\n",
      "[CV]   learning_rate=0.5, max_depth=10, n_estimators=200, score=0.748, total=   0.1s\n",
      "[CV]  learning_rate=0.5, max_depth=20, n_estimators=10 ...............\n",
      "[CV]   learning_rate=0.5, max_depth=20, n_estimators=10, score=0.787, total=   0.0s\n",
      "[CV]  learning_rate=0.5, max_depth=20, n_estimators=10 ...............\n",
      "[CV]   learning_rate=0.5, max_depth=20, n_estimators=10, score=0.778, total=   0.0s\n",
      "[CV]  learning_rate=0.5, max_depth=20, n_estimators=10 ...............\n",
      "[CV]   learning_rate=0.5, max_depth=20, n_estimators=10, score=0.766, total=   0.0s\n",
      "[CV]  learning_rate=0.5, max_depth=20, n_estimators=10 ...............\n",
      "[CV]   learning_rate=0.5, max_depth=20, n_estimators=10, score=0.720, total=   0.0s\n",
      "[CV]  learning_rate=0.5, max_depth=20, n_estimators=10 ...............\n",
      "[CV]   learning_rate=0.5, max_depth=20, n_estimators=10, score=0.738, total=   0.0s\n",
      "[CV]  learning_rate=0.5, max_depth=20, n_estimators=50 ...............\n",
      "[CV]   learning_rate=0.5, max_depth=20, n_estimators=50, score=0.778, total=   0.1s\n",
      "[CV]  learning_rate=0.5, max_depth=20, n_estimators=50 ...............\n",
      "[CV]   learning_rate=0.5, max_depth=20, n_estimators=50, score=0.731, total=   0.1s\n",
      "[CV]  learning_rate=0.5, max_depth=20, n_estimators=50 ...............\n",
      "[CV]   learning_rate=0.5, max_depth=20, n_estimators=50, score=0.776, total=   0.1s\n",
      "[CV]  learning_rate=0.5, max_depth=20, n_estimators=50 ...............\n",
      "[CV]   learning_rate=0.5, max_depth=20, n_estimators=50, score=0.729, total=   0.1s\n",
      "[CV]  learning_rate=0.5, max_depth=20, n_estimators=50 ...............\n",
      "[CV]   learning_rate=0.5, max_depth=20, n_estimators=50, score=0.757, total=   0.0s\n",
      "[CV]  learning_rate=0.5, max_depth=20, n_estimators=100 ..............\n",
      "[CV]   learning_rate=0.5, max_depth=20, n_estimators=100, score=0.759, total=   0.1s\n",
      "[CV]  learning_rate=0.5, max_depth=20, n_estimators=100 ..............\n",
      "[CV]   learning_rate=0.5, max_depth=20, n_estimators=100, score=0.731, total=   0.1s\n",
      "[CV]  learning_rate=0.5, max_depth=20, n_estimators=100 ..............\n",
      "[CV]   learning_rate=0.5, max_depth=20, n_estimators=100, score=0.748, total=   0.1s\n",
      "[CV]  learning_rate=0.5, max_depth=20, n_estimators=100 ..............\n",
      "[CV]   learning_rate=0.5, max_depth=20, n_estimators=100, score=0.720, total=   0.1s\n",
      "[CV]  learning_rate=0.5, max_depth=20, n_estimators=100 ..............\n",
      "[CV]   learning_rate=0.5, max_depth=20, n_estimators=100, score=0.748, total=   0.1s\n",
      "[CV]  learning_rate=0.5, max_depth=20, n_estimators=200 ..............\n",
      "[CV]   learning_rate=0.5, max_depth=20, n_estimators=200, score=0.787, total=   0.1s\n",
      "[CV]  learning_rate=0.5, max_depth=20, n_estimators=200 ..............\n",
      "[CV]   learning_rate=0.5, max_depth=20, n_estimators=200, score=0.713, total=   0.1s\n",
      "[CV]  learning_rate=0.5, max_depth=20, n_estimators=200 ..............\n",
      "[CV]   learning_rate=0.5, max_depth=20, n_estimators=200, score=0.738, total=   0.1s\n",
      "[CV]  learning_rate=0.5, max_depth=20, n_estimators=200 ..............\n",
      "[CV]   learning_rate=0.5, max_depth=20, n_estimators=200, score=0.720, total=   0.1s\n",
      "[CV]  learning_rate=0.5, max_depth=20, n_estimators=200 ..............\n",
      "[CV]   learning_rate=0.5, max_depth=20, n_estimators=200, score=0.738, total=   0.1s\n",
      "[CV]  learning_rate=0.1, max_depth=3, n_estimators=10 ................\n",
      "[CV]   learning_rate=0.1, max_depth=3, n_estimators=10, score=0.778, total=   0.0s\n",
      "[CV]  learning_rate=0.1, max_depth=3, n_estimators=10 ................\n",
      "[CV]   learning_rate=0.1, max_depth=3, n_estimators=10, score=0.731, total=   0.0s\n",
      "[CV]  learning_rate=0.1, max_depth=3, n_estimators=10 ................\n",
      "[CV]   learning_rate=0.1, max_depth=3, n_estimators=10, score=0.785, total=   0.0s\n",
      "[CV]  learning_rate=0.1, max_depth=3, n_estimators=10 ................\n",
      "[CV]   learning_rate=0.1, max_depth=3, n_estimators=10, score=0.692, total=   0.0s\n",
      "[CV]  learning_rate=0.1, max_depth=3, n_estimators=10 ................\n",
      "[CV]   learning_rate=0.1, max_depth=3, n_estimators=10, score=0.729, total=   0.0s\n",
      "[CV]  learning_rate=0.1, max_depth=3, n_estimators=50 ................\n",
      "[CV]   learning_rate=0.1, max_depth=3, n_estimators=50, score=0.815, total=   0.0s\n",
      "[CV]  learning_rate=0.1, max_depth=3, n_estimators=50 ................\n",
      "[CV]   learning_rate=0.1, max_depth=3, n_estimators=50, score=0.731, total=   0.0s\n",
      "[CV]  learning_rate=0.1, max_depth=3, n_estimators=50 ................\n",
      "[CV]   learning_rate=0.1, max_depth=3, n_estimators=50, score=0.776, total=   0.0s\n",
      "[CV]  learning_rate=0.1, max_depth=3, n_estimators=50 ................\n",
      "[CV]   learning_rate=0.1, max_depth=3, n_estimators=50, score=0.729, total=   0.0s\n",
      "[CV]  learning_rate=0.1, max_depth=3, n_estimators=50 ................\n",
      "[CV]   learning_rate=0.1, max_depth=3, n_estimators=50, score=0.785, total=   0.0s\n",
      "[CV]  learning_rate=0.1, max_depth=3, n_estimators=100 ...............\n",
      "[CV]   learning_rate=0.1, max_depth=3, n_estimators=100, score=0.815, total=   0.0s\n",
      "[CV]  learning_rate=0.1, max_depth=3, n_estimators=100 ...............\n",
      "[CV]   learning_rate=0.1, max_depth=3, n_estimators=100, score=0.722, total=   0.0s\n",
      "[CV]  learning_rate=0.1, max_depth=3, n_estimators=100 ...............\n",
      "[CV]   learning_rate=0.1, max_depth=3, n_estimators=100, score=0.776, total=   0.0s\n",
      "[CV]  learning_rate=0.1, max_depth=3, n_estimators=100 ...............\n",
      "[CV]   learning_rate=0.1, max_depth=3, n_estimators=100, score=0.720, total=   0.0s\n",
      "[CV]  learning_rate=0.1, max_depth=3, n_estimators=100 ...............\n",
      "[CV]   learning_rate=0.1, max_depth=3, n_estimators=100, score=0.785, total=   0.0s\n",
      "[CV]  learning_rate=0.1, max_depth=3, n_estimators=200 ...............\n",
      "[CV]   learning_rate=0.1, max_depth=3, n_estimators=200, score=0.778, total=   0.1s\n",
      "[CV]  learning_rate=0.1, max_depth=3, n_estimators=200 ...............\n",
      "[CV]   learning_rate=0.1, max_depth=3, n_estimators=200, score=0.741, total=   0.1s\n",
      "[CV]  learning_rate=0.1, max_depth=3, n_estimators=200 ...............\n",
      "[CV]   learning_rate=0.1, max_depth=3, n_estimators=200, score=0.757, total=   0.1s\n",
      "[CV]  learning_rate=0.1, max_depth=3, n_estimators=200 ...............\n",
      "[CV]   learning_rate=0.1, max_depth=3, n_estimators=200, score=0.720, total=   0.1s\n",
      "[CV]  learning_rate=0.1, max_depth=3, n_estimators=200 ...............\n",
      "[CV]   learning_rate=0.1, max_depth=3, n_estimators=200, score=0.757, total=   0.1s\n",
      "[CV]  learning_rate=0.1, max_depth=5, n_estimators=10 ................\n",
      "[CV]   learning_rate=0.1, max_depth=5, n_estimators=10, score=0.824, total=   0.0s\n",
      "[CV]  learning_rate=0.1, max_depth=5, n_estimators=10 ................\n",
      "[CV]   learning_rate=0.1, max_depth=5, n_estimators=10, score=0.778, total=   0.0s\n",
      "[CV]  learning_rate=0.1, max_depth=5, n_estimators=10 ................\n",
      "[CV]   learning_rate=0.1, max_depth=5, n_estimators=10, score=0.776, total=   0.0s\n",
      "[CV]  learning_rate=0.1, max_depth=5, n_estimators=10 ................\n",
      "[CV]   learning_rate=0.1, max_depth=5, n_estimators=10, score=0.692, total=   0.0s\n",
      "[CV]  learning_rate=0.1, max_depth=5, n_estimators=10 ................\n",
      "[CV]   learning_rate=0.1, max_depth=5, n_estimators=10, score=0.710, total=   0.0s\n",
      "[CV]  learning_rate=0.1, max_depth=5, n_estimators=50 ................\n",
      "[CV]   learning_rate=0.1, max_depth=5, n_estimators=50, score=0.833, total=   0.0s\n",
      "[CV]  learning_rate=0.1, max_depth=5, n_estimators=50 ................\n",
      "[CV]   learning_rate=0.1, max_depth=5, n_estimators=50, score=0.741, total=   0.0s\n",
      "[CV]  learning_rate=0.1, max_depth=5, n_estimators=50 ................\n",
      "[CV]   learning_rate=0.1, max_depth=5, n_estimators=50, score=0.785, total=   0.0s\n",
      "[CV]  learning_rate=0.1, max_depth=5, n_estimators=50 ................\n",
      "[CV]   learning_rate=0.1, max_depth=5, n_estimators=50, score=0.738, total=   0.0s\n",
      "[CV]  learning_rate=0.1, max_depth=5, n_estimators=50 ................\n",
      "[CV]   learning_rate=0.1, max_depth=5, n_estimators=50, score=0.757, total=   0.0s\n",
      "[CV]  learning_rate=0.1, max_depth=5, n_estimators=100 ...............\n",
      "[CV]   learning_rate=0.1, max_depth=5, n_estimators=100, score=0.769, total=   0.1s\n",
      "[CV]  learning_rate=0.1, max_depth=5, n_estimators=100 ...............\n",
      "[CV]   learning_rate=0.1, max_depth=5, n_estimators=100, score=0.750, total=   0.1s\n",
      "[CV]  learning_rate=0.1, max_depth=5, n_estimators=100 ...............\n",
      "[CV]   learning_rate=0.1, max_depth=5, n_estimators=100, score=0.776, total=   0.1s\n",
      "[CV]  learning_rate=0.1, max_depth=5, n_estimators=100 ...............\n",
      "[CV]   learning_rate=0.1, max_depth=5, n_estimators=100, score=0.720, total=   0.1s\n",
      "[CV]  learning_rate=0.1, max_depth=5, n_estimators=100 ...............\n",
      "[CV]   learning_rate=0.1, max_depth=5, n_estimators=100, score=0.748, total=   0.1s\n",
      "[CV]  learning_rate=0.1, max_depth=5, n_estimators=200 ...............\n",
      "[CV]   learning_rate=0.1, max_depth=5, n_estimators=200, score=0.769, total=   0.1s\n",
      "[CV]  learning_rate=0.1, max_depth=5, n_estimators=200 ...............\n",
      "[CV]   learning_rate=0.1, max_depth=5, n_estimators=200, score=0.759, total=   0.1s\n",
      "[CV]  learning_rate=0.1, max_depth=5, n_estimators=200 ...............\n",
      "[CV]   learning_rate=0.1, max_depth=5, n_estimators=200, score=0.776, total=   0.1s\n",
      "[CV]  learning_rate=0.1, max_depth=5, n_estimators=200 ...............\n",
      "[CV]   learning_rate=0.1, max_depth=5, n_estimators=200, score=0.710, total=   0.1s\n",
      "[CV]  learning_rate=0.1, max_depth=5, n_estimators=200 ...............\n",
      "[CV]   learning_rate=0.1, max_depth=5, n_estimators=200, score=0.729, total=   0.1s\n",
      "[CV]  learning_rate=0.1, max_depth=10, n_estimators=10 ...............\n",
      "[CV]   learning_rate=0.1, max_depth=10, n_estimators=10, score=0.796, total=   0.0s\n",
      "[CV]  learning_rate=0.1, max_depth=10, n_estimators=10 ...............\n",
      "[CV]   learning_rate=0.1, max_depth=10, n_estimators=10, score=0.778, total=   0.0s\n",
      "[CV]  learning_rate=0.1, max_depth=10, n_estimators=10 ...............\n",
      "[CV]   learning_rate=0.1, max_depth=10, n_estimators=10, score=0.738, total=   0.0s\n",
      "[CV]  learning_rate=0.1, max_depth=10, n_estimators=10 ...............\n",
      "[CV]   learning_rate=0.1, max_depth=10, n_estimators=10, score=0.729, total=   0.0s\n",
      "[CV]  learning_rate=0.1, max_depth=10, n_estimators=10 ...............\n",
      "[CV]   learning_rate=0.1, max_depth=10, n_estimators=10, score=0.738, total=   0.0s\n",
      "[CV]  learning_rate=0.1, max_depth=10, n_estimators=50 ...............\n",
      "[CV]   learning_rate=0.1, max_depth=10, n_estimators=50, score=0.778, total=   0.0s\n",
      "[CV]  learning_rate=0.1, max_depth=10, n_estimators=50 ...............\n",
      "[CV]   learning_rate=0.1, max_depth=10, n_estimators=50, score=0.741, total=   0.0s\n",
      "[CV]  learning_rate=0.1, max_depth=10, n_estimators=50 ...............\n",
      "[CV]   learning_rate=0.1, max_depth=10, n_estimators=50, score=0.776, total=   0.1s\n",
      "[CV]  learning_rate=0.1, max_depth=10, n_estimators=50 ...............\n",
      "[CV]   learning_rate=0.1, max_depth=10, n_estimators=50, score=0.748, total=   0.0s\n",
      "[CV]  learning_rate=0.1, max_depth=10, n_estimators=50 ...............\n",
      "[CV]   learning_rate=0.1, max_depth=10, n_estimators=50, score=0.748, total=   0.0s\n",
      "[CV]  learning_rate=0.1, max_depth=10, n_estimators=100 ..............\n",
      "[CV]   learning_rate=0.1, max_depth=10, n_estimators=100, score=0.769, total=   0.1s\n",
      "[CV]  learning_rate=0.1, max_depth=10, n_estimators=100 ..............\n",
      "[CV]   learning_rate=0.1, max_depth=10, n_estimators=100, score=0.731, total=   0.1s\n",
      "[CV]  learning_rate=0.1, max_depth=10, n_estimators=100 ..............\n",
      "[CV]   learning_rate=0.1, max_depth=10, n_estimators=100, score=0.776, total=   0.1s\n",
      "[CV]  learning_rate=0.1, max_depth=10, n_estimators=100 ..............\n",
      "[CV]   learning_rate=0.1, max_depth=10, n_estimators=100, score=0.729, total=   0.1s\n",
      "[CV]  learning_rate=0.1, max_depth=10, n_estimators=100 ..............\n",
      "[CV]   learning_rate=0.1, max_depth=10, n_estimators=100, score=0.766, total=   0.1s\n",
      "[CV]  learning_rate=0.1, max_depth=10, n_estimators=200 ..............\n",
      "[CV]   learning_rate=0.1, max_depth=10, n_estimators=200, score=0.769, total=   0.1s\n",
      "[CV]  learning_rate=0.1, max_depth=10, n_estimators=200 ..............\n",
      "[CV]   learning_rate=0.1, max_depth=10, n_estimators=200, score=0.722, total=   0.1s\n",
      "[CV]  learning_rate=0.1, max_depth=10, n_estimators=200 ..............\n",
      "[CV]   learning_rate=0.1, max_depth=10, n_estimators=200, score=0.766, total=   0.1s\n",
      "[CV]  learning_rate=0.1, max_depth=10, n_estimators=200 ..............\n",
      "[CV]   learning_rate=0.1, max_depth=10, n_estimators=200, score=0.738, total=   0.1s\n",
      "[CV]  learning_rate=0.1, max_depth=10, n_estimators=200 ..............\n",
      "[CV]   learning_rate=0.1, max_depth=10, n_estimators=200, score=0.748, total=   0.1s\n",
      "[CV]  learning_rate=0.1, max_depth=20, n_estimators=10 ...............\n",
      "[CV]   learning_rate=0.1, max_depth=20, n_estimators=10, score=0.787, total=   0.0s\n",
      "[CV]  learning_rate=0.1, max_depth=20, n_estimators=10 ...............\n",
      "[CV]   learning_rate=0.1, max_depth=20, n_estimators=10, score=0.778, total=   0.0s\n",
      "[CV]  learning_rate=0.1, max_depth=20, n_estimators=10 ...............\n",
      "[CV]   learning_rate=0.1, max_depth=20, n_estimators=10, score=0.766, total=   0.0s\n",
      "[CV]  learning_rate=0.1, max_depth=20, n_estimators=10 ...............\n",
      "[CV]   learning_rate=0.1, max_depth=20, n_estimators=10, score=0.720, total=   0.0s\n",
      "[CV]  learning_rate=0.1, max_depth=20, n_estimators=10 ...............\n",
      "[CV]   learning_rate=0.1, max_depth=20, n_estimators=10, score=0.738, total=   0.0s\n",
      "[CV]  learning_rate=0.1, max_depth=20, n_estimators=50 ...............\n",
      "[CV]   learning_rate=0.1, max_depth=20, n_estimators=50, score=0.778, total=   0.1s\n",
      "[CV]  learning_rate=0.1, max_depth=20, n_estimators=50 ...............\n",
      "[CV]   learning_rate=0.1, max_depth=20, n_estimators=50, score=0.731, total=   0.0s\n",
      "[CV]  learning_rate=0.1, max_depth=20, n_estimators=50 ...............\n",
      "[CV]   learning_rate=0.1, max_depth=20, n_estimators=50, score=0.776, total=   0.0s\n",
      "[CV]  learning_rate=0.1, max_depth=20, n_estimators=50 ...............\n",
      "[CV]   learning_rate=0.1, max_depth=20, n_estimators=50, score=0.729, total=   0.1s\n",
      "[CV]  learning_rate=0.1, max_depth=20, n_estimators=50 ...............\n",
      "[CV]   learning_rate=0.1, max_depth=20, n_estimators=50, score=0.757, total=   0.0s\n",
      "[CV]  learning_rate=0.1, max_depth=20, n_estimators=100 ..............\n",
      "[CV]   learning_rate=0.1, max_depth=20, n_estimators=100, score=0.759, total=   0.1s\n",
      "[CV]  learning_rate=0.1, max_depth=20, n_estimators=100 ..............\n",
      "[CV]   learning_rate=0.1, max_depth=20, n_estimators=100, score=0.731, total=   0.1s\n",
      "[CV]  learning_rate=0.1, max_depth=20, n_estimators=100 ..............\n",
      "[CV]   learning_rate=0.1, max_depth=20, n_estimators=100, score=0.748, total=   0.1s\n",
      "[CV]  learning_rate=0.1, max_depth=20, n_estimators=100 ..............\n",
      "[CV]   learning_rate=0.1, max_depth=20, n_estimators=100, score=0.720, total=   0.1s\n",
      "[CV]  learning_rate=0.1, max_depth=20, n_estimators=100 ..............\n",
      "[CV]   learning_rate=0.1, max_depth=20, n_estimators=100, score=0.748, total=   0.1s\n",
      "[CV]  learning_rate=0.1, max_depth=20, n_estimators=200 ..............\n",
      "[CV]   learning_rate=0.1, max_depth=20, n_estimators=200, score=0.787, total=   0.1s\n",
      "[CV]  learning_rate=0.1, max_depth=20, n_estimators=200 ..............\n",
      "[CV]   learning_rate=0.1, max_depth=20, n_estimators=200, score=0.713, total=   0.1s\n",
      "[CV]  learning_rate=0.1, max_depth=20, n_estimators=200 ..............\n",
      "[CV]   learning_rate=0.1, max_depth=20, n_estimators=200, score=0.738, total=   0.1s\n",
      "[CV]  learning_rate=0.1, max_depth=20, n_estimators=200 ..............\n",
      "[CV]   learning_rate=0.1, max_depth=20, n_estimators=200, score=0.720, total=   0.1s\n",
      "[CV]  learning_rate=0.1, max_depth=20, n_estimators=200 ..............\n",
      "[CV]   learning_rate=0.1, max_depth=20, n_estimators=200, score=0.738, total=   0.1s\n",
      "[CV]  learning_rate=0.01, max_depth=3, n_estimators=10 ...............\n",
      "[CV]   learning_rate=0.01, max_depth=3, n_estimators=10, score=0.778, total=   0.0s\n",
      "[CV]  learning_rate=0.01, max_depth=3, n_estimators=10 ...............\n",
      "[CV]   learning_rate=0.01, max_depth=3, n_estimators=10, score=0.731, total=   0.0s\n",
      "[CV]  learning_rate=0.01, max_depth=3, n_estimators=10 ...............\n",
      "[CV]   learning_rate=0.01, max_depth=3, n_estimators=10, score=0.785, total=   0.0s\n",
      "[CV]  learning_rate=0.01, max_depth=3, n_estimators=10 ...............\n",
      "[CV]   learning_rate=0.01, max_depth=3, n_estimators=10, score=0.692, total=   0.0s\n",
      "[CV]  learning_rate=0.01, max_depth=3, n_estimators=10 ...............\n",
      "[CV]   learning_rate=0.01, max_depth=3, n_estimators=10, score=0.729, total=   0.0s\n",
      "[CV]  learning_rate=0.01, max_depth=3, n_estimators=50 ...............\n",
      "[CV]   learning_rate=0.01, max_depth=3, n_estimators=50, score=0.815, total=   0.0s\n",
      "[CV]  learning_rate=0.01, max_depth=3, n_estimators=50 ...............\n",
      "[CV]   learning_rate=0.01, max_depth=3, n_estimators=50, score=0.731, total=   0.0s\n",
      "[CV]  learning_rate=0.01, max_depth=3, n_estimators=50 ...............\n",
      "[CV]   learning_rate=0.01, max_depth=3, n_estimators=50, score=0.776, total=   0.0s\n",
      "[CV]  learning_rate=0.01, max_depth=3, n_estimators=50 ...............\n",
      "[CV]   learning_rate=0.01, max_depth=3, n_estimators=50, score=0.729, total=   0.0s\n",
      "[CV]  learning_rate=0.01, max_depth=3, n_estimators=50 ...............\n",
      "[CV]   learning_rate=0.01, max_depth=3, n_estimators=50, score=0.785, total=   0.0s\n",
      "[CV]  learning_rate=0.01, max_depth=3, n_estimators=100 ..............\n",
      "[CV]   learning_rate=0.01, max_depth=3, n_estimators=100, score=0.815, total=   0.0s\n",
      "[CV]  learning_rate=0.01, max_depth=3, n_estimators=100 ..............\n",
      "[CV]   learning_rate=0.01, max_depth=3, n_estimators=100, score=0.722, total=   0.0s\n",
      "[CV]  learning_rate=0.01, max_depth=3, n_estimators=100 ..............\n",
      "[CV]   learning_rate=0.01, max_depth=3, n_estimators=100, score=0.776, total=   0.0s\n",
      "[CV]  learning_rate=0.01, max_depth=3, n_estimators=100 ..............\n",
      "[CV]   learning_rate=0.01, max_depth=3, n_estimators=100, score=0.720, total=   0.0s\n",
      "[CV]  learning_rate=0.01, max_depth=3, n_estimators=100 ..............\n",
      "[CV]   learning_rate=0.01, max_depth=3, n_estimators=100, score=0.785, total=   0.0s\n",
      "[CV]  learning_rate=0.01, max_depth=3, n_estimators=200 ..............\n",
      "[CV]   learning_rate=0.01, max_depth=3, n_estimators=200, score=0.778, total=   0.1s\n",
      "[CV]  learning_rate=0.01, max_depth=3, n_estimators=200 ..............\n",
      "[CV]   learning_rate=0.01, max_depth=3, n_estimators=200, score=0.741, total=   0.1s\n",
      "[CV]  learning_rate=0.01, max_depth=3, n_estimators=200 ..............\n",
      "[CV]   learning_rate=0.01, max_depth=3, n_estimators=200, score=0.757, total=   0.1s\n",
      "[CV]  learning_rate=0.01, max_depth=3, n_estimators=200 ..............\n",
      "[CV]   learning_rate=0.01, max_depth=3, n_estimators=200, score=0.720, total=   0.1s\n",
      "[CV]  learning_rate=0.01, max_depth=3, n_estimators=200 ..............\n",
      "[CV]   learning_rate=0.01, max_depth=3, n_estimators=200, score=0.757, total=   0.1s\n",
      "[CV]  learning_rate=0.01, max_depth=5, n_estimators=10 ...............\n",
      "[CV]   learning_rate=0.01, max_depth=5, n_estimators=10, score=0.824, total=   0.0s\n",
      "[CV]  learning_rate=0.01, max_depth=5, n_estimators=10 ...............\n",
      "[CV]   learning_rate=0.01, max_depth=5, n_estimators=10, score=0.778, total=   0.0s\n",
      "[CV]  learning_rate=0.01, max_depth=5, n_estimators=10 ...............\n",
      "[CV]   learning_rate=0.01, max_depth=5, n_estimators=10, score=0.776, total=   0.0s\n",
      "[CV]  learning_rate=0.01, max_depth=5, n_estimators=10 ...............\n",
      "[CV]   learning_rate=0.01, max_depth=5, n_estimators=10, score=0.692, total=   0.0s\n",
      "[CV]  learning_rate=0.01, max_depth=5, n_estimators=10 ...............\n",
      "[CV]   learning_rate=0.01, max_depth=5, n_estimators=10, score=0.710, total=   0.0s\n",
      "[CV]  learning_rate=0.01, max_depth=5, n_estimators=50 ...............\n",
      "[CV]   learning_rate=0.01, max_depth=5, n_estimators=50, score=0.833, total=   0.0s\n",
      "[CV]  learning_rate=0.01, max_depth=5, n_estimators=50 ...............\n",
      "[CV]   learning_rate=0.01, max_depth=5, n_estimators=50, score=0.741, total=   0.0s\n",
      "[CV]  learning_rate=0.01, max_depth=5, n_estimators=50 ...............\n",
      "[CV]   learning_rate=0.01, max_depth=5, n_estimators=50, score=0.785, total=   0.0s\n",
      "[CV]  learning_rate=0.01, max_depth=5, n_estimators=50 ...............\n",
      "[CV]   learning_rate=0.01, max_depth=5, n_estimators=50, score=0.738, total=   0.0s\n",
      "[CV]  learning_rate=0.01, max_depth=5, n_estimators=50 ...............\n",
      "[CV]   learning_rate=0.01, max_depth=5, n_estimators=50, score=0.757, total=   0.0s\n",
      "[CV]  learning_rate=0.01, max_depth=5, n_estimators=100 ..............\n",
      "[CV]   learning_rate=0.01, max_depth=5, n_estimators=100, score=0.769, total=   0.1s\n",
      "[CV]  learning_rate=0.01, max_depth=5, n_estimators=100 ..............\n",
      "[CV]   learning_rate=0.01, max_depth=5, n_estimators=100, score=0.750, total=   0.1s\n",
      "[CV]  learning_rate=0.01, max_depth=5, n_estimators=100 ..............\n",
      "[CV]   learning_rate=0.01, max_depth=5, n_estimators=100, score=0.776, total=   0.1s\n",
      "[CV]  learning_rate=0.01, max_depth=5, n_estimators=100 ..............\n",
      "[CV]   learning_rate=0.01, max_depth=5, n_estimators=100, score=0.720, total=   0.1s\n",
      "[CV]  learning_rate=0.01, max_depth=5, n_estimators=100 ..............\n",
      "[CV]   learning_rate=0.01, max_depth=5, n_estimators=100, score=0.748, total=   0.1s\n",
      "[CV]  learning_rate=0.01, max_depth=5, n_estimators=200 ..............\n",
      "[CV]   learning_rate=0.01, max_depth=5, n_estimators=200, score=0.769, total=   0.1s\n",
      "[CV]  learning_rate=0.01, max_depth=5, n_estimators=200 ..............\n",
      "[CV]   learning_rate=0.01, max_depth=5, n_estimators=200, score=0.759, total=   0.1s\n",
      "[CV]  learning_rate=0.01, max_depth=5, n_estimators=200 ..............\n",
      "[CV]   learning_rate=0.01, max_depth=5, n_estimators=200, score=0.776, total=   0.1s\n",
      "[CV]  learning_rate=0.01, max_depth=5, n_estimators=200 ..............\n",
      "[CV]   learning_rate=0.01, max_depth=5, n_estimators=200, score=0.710, total=   0.1s\n",
      "[CV]  learning_rate=0.01, max_depth=5, n_estimators=200 ..............\n",
      "[CV]   learning_rate=0.01, max_depth=5, n_estimators=200, score=0.729, total=   0.1s\n",
      "[CV]  learning_rate=0.01, max_depth=10, n_estimators=10 ..............\n",
      "[CV]   learning_rate=0.01, max_depth=10, n_estimators=10, score=0.796, total=   0.0s\n",
      "[CV]  learning_rate=0.01, max_depth=10, n_estimators=10 ..............\n",
      "[CV]   learning_rate=0.01, max_depth=10, n_estimators=10, score=0.778, total=   0.0s\n",
      "[CV]  learning_rate=0.01, max_depth=10, n_estimators=10 ..............\n",
      "[CV]   learning_rate=0.01, max_depth=10, n_estimators=10, score=0.738, total=   0.0s\n",
      "[CV]  learning_rate=0.01, max_depth=10, n_estimators=10 ..............\n",
      "[CV]   learning_rate=0.01, max_depth=10, n_estimators=10, score=0.729, total=   0.0s\n",
      "[CV]  learning_rate=0.01, max_depth=10, n_estimators=10 ..............\n",
      "[CV]   learning_rate=0.01, max_depth=10, n_estimators=10, score=0.738, total=   0.0s\n",
      "[CV]  learning_rate=0.01, max_depth=10, n_estimators=50 ..............\n",
      "[CV]   learning_rate=0.01, max_depth=10, n_estimators=50, score=0.778, total=   0.1s\n",
      "[CV]  learning_rate=0.01, max_depth=10, n_estimators=50 ..............\n",
      "[CV]   learning_rate=0.01, max_depth=10, n_estimators=50, score=0.741, total=   0.0s\n",
      "[CV]  learning_rate=0.01, max_depth=10, n_estimators=50 ..............\n",
      "[CV]   learning_rate=0.01, max_depth=10, n_estimators=50, score=0.776, total=   0.0s\n",
      "[CV]  learning_rate=0.01, max_depth=10, n_estimators=50 ..............\n",
      "[CV]   learning_rate=0.01, max_depth=10, n_estimators=50, score=0.748, total=   0.0s\n",
      "[CV]  learning_rate=0.01, max_depth=10, n_estimators=50 ..............\n",
      "[CV]   learning_rate=0.01, max_depth=10, n_estimators=50, score=0.748, total=   0.0s\n",
      "[CV]  learning_rate=0.01, max_depth=10, n_estimators=100 .............\n",
      "[CV]   learning_rate=0.01, max_depth=10, n_estimators=100, score=0.769, total=   0.1s\n",
      "[CV]  learning_rate=0.01, max_depth=10, n_estimators=100 .............\n",
      "[CV]   learning_rate=0.01, max_depth=10, n_estimators=100, score=0.731, total=   0.1s\n",
      "[CV]  learning_rate=0.01, max_depth=10, n_estimators=100 .............\n",
      "[CV]   learning_rate=0.01, max_depth=10, n_estimators=100, score=0.776, total=   0.1s\n",
      "[CV]  learning_rate=0.01, max_depth=10, n_estimators=100 .............\n",
      "[CV]   learning_rate=0.01, max_depth=10, n_estimators=100, score=0.729, total=   0.1s\n",
      "[CV]  learning_rate=0.01, max_depth=10, n_estimators=100 .............\n",
      "[CV]   learning_rate=0.01, max_depth=10, n_estimators=100, score=0.766, total=   0.1s\n",
      "[CV]  learning_rate=0.01, max_depth=10, n_estimators=200 .............\n",
      "[CV]   learning_rate=0.01, max_depth=10, n_estimators=200, score=0.769, total=   0.1s\n",
      "[CV]  learning_rate=0.01, max_depth=10, n_estimators=200 .............\n",
      "[CV]   learning_rate=0.01, max_depth=10, n_estimators=200, score=0.722, total=   0.1s\n",
      "[CV]  learning_rate=0.01, max_depth=10, n_estimators=200 .............\n",
      "[CV]   learning_rate=0.01, max_depth=10, n_estimators=200, score=0.766, total=   0.1s\n",
      "[CV]  learning_rate=0.01, max_depth=10, n_estimators=200 .............\n",
      "[CV]   learning_rate=0.01, max_depth=10, n_estimators=200, score=0.738, total=   0.1s\n",
      "[CV]  learning_rate=0.01, max_depth=10, n_estimators=200 .............\n",
      "[CV]   learning_rate=0.01, max_depth=10, n_estimators=200, score=0.748, total=   0.1s\n",
      "[CV]  learning_rate=0.01, max_depth=20, n_estimators=10 ..............\n",
      "[CV]   learning_rate=0.01, max_depth=20, n_estimators=10, score=0.787, total=   0.0s\n",
      "[CV]  learning_rate=0.01, max_depth=20, n_estimators=10 ..............\n",
      "[CV]   learning_rate=0.01, max_depth=20, n_estimators=10, score=0.778, total=   0.0s\n",
      "[CV]  learning_rate=0.01, max_depth=20, n_estimators=10 ..............\n",
      "[CV]   learning_rate=0.01, max_depth=20, n_estimators=10, score=0.766, total=   0.0s\n",
      "[CV]  learning_rate=0.01, max_depth=20, n_estimators=10 ..............\n",
      "[CV]   learning_rate=0.01, max_depth=20, n_estimators=10, score=0.720, total=   0.0s\n",
      "[CV]  learning_rate=0.01, max_depth=20, n_estimators=10 ..............\n",
      "[CV]   learning_rate=0.01, max_depth=20, n_estimators=10, score=0.738, total=   0.0s\n",
      "[CV]  learning_rate=0.01, max_depth=20, n_estimators=50 ..............\n",
      "[CV]   learning_rate=0.01, max_depth=20, n_estimators=50, score=0.778, total=   0.1s\n",
      "[CV]  learning_rate=0.01, max_depth=20, n_estimators=50 ..............\n",
      "[CV]   learning_rate=0.01, max_depth=20, n_estimators=50, score=0.731, total=   0.0s\n",
      "[CV]  learning_rate=0.01, max_depth=20, n_estimators=50 ..............\n",
      "[CV]   learning_rate=0.01, max_depth=20, n_estimators=50, score=0.776, total=   0.1s\n",
      "[CV]  learning_rate=0.01, max_depth=20, n_estimators=50 ..............\n",
      "[CV]   learning_rate=0.01, max_depth=20, n_estimators=50, score=0.729, total=   0.1s\n",
      "[CV]  learning_rate=0.01, max_depth=20, n_estimators=50 ..............\n",
      "[CV]   learning_rate=0.01, max_depth=20, n_estimators=50, score=0.757, total=   0.1s\n",
      "[CV]  learning_rate=0.01, max_depth=20, n_estimators=100 .............\n",
      "[CV]   learning_rate=0.01, max_depth=20, n_estimators=100, score=0.759, total=   0.1s\n",
      "[CV]  learning_rate=0.01, max_depth=20, n_estimators=100 .............\n",
      "[CV]   learning_rate=0.01, max_depth=20, n_estimators=100, score=0.731, total=   0.1s\n",
      "[CV]  learning_rate=0.01, max_depth=20, n_estimators=100 .............\n",
      "[CV]   learning_rate=0.01, max_depth=20, n_estimators=100, score=0.748, total=   0.1s\n",
      "[CV]  learning_rate=0.01, max_depth=20, n_estimators=100 .............\n",
      "[CV]   learning_rate=0.01, max_depth=20, n_estimators=100, score=0.720, total=   0.1s\n",
      "[CV]  learning_rate=0.01, max_depth=20, n_estimators=100 .............\n",
      "[CV]   learning_rate=0.01, max_depth=20, n_estimators=100, score=0.748, total=   0.1s\n",
      "[CV]  learning_rate=0.01, max_depth=20, n_estimators=200 .............\n",
      "[CV]   learning_rate=0.01, max_depth=20, n_estimators=200, score=0.787, total=   0.1s\n",
      "[CV]  learning_rate=0.01, max_depth=20, n_estimators=200 .............\n",
      "[CV]   learning_rate=0.01, max_depth=20, n_estimators=200, score=0.713, total=   0.1s\n",
      "[CV]  learning_rate=0.01, max_depth=20, n_estimators=200 .............\n",
      "[CV]   learning_rate=0.01, max_depth=20, n_estimators=200, score=0.738, total=   0.1s\n",
      "[CV]  learning_rate=0.01, max_depth=20, n_estimators=200 .............\n",
      "[CV]   learning_rate=0.01, max_depth=20, n_estimators=200, score=0.720, total=   0.1s\n",
      "[CV]  learning_rate=0.01, max_depth=20, n_estimators=200 .............\n",
      "[CV]   learning_rate=0.01, max_depth=20, n_estimators=200, score=0.738, total=   0.1s\n",
      "[CV]  learning_rate=0.001, max_depth=3, n_estimators=10 ..............\n",
      "[CV]   learning_rate=0.001, max_depth=3, n_estimators=10, score=0.778, total=   0.0s\n",
      "[CV]  learning_rate=0.001, max_depth=3, n_estimators=10 ..............\n",
      "[CV]   learning_rate=0.001, max_depth=3, n_estimators=10, score=0.731, total=   0.0s\n",
      "[CV]  learning_rate=0.001, max_depth=3, n_estimators=10 ..............\n",
      "[CV]   learning_rate=0.001, max_depth=3, n_estimators=10, score=0.785, total=   0.0s\n",
      "[CV]  learning_rate=0.001, max_depth=3, n_estimators=10 ..............\n",
      "[CV]   learning_rate=0.001, max_depth=3, n_estimators=10, score=0.692, total=   0.0s\n",
      "[CV]  learning_rate=0.001, max_depth=3, n_estimators=10 ..............\n",
      "[CV]   learning_rate=0.001, max_depth=3, n_estimators=10, score=0.729, total=   0.0s\n",
      "[CV]  learning_rate=0.001, max_depth=3, n_estimators=50 ..............\n",
      "[CV]   learning_rate=0.001, max_depth=3, n_estimators=50, score=0.815, total=   0.0s\n",
      "[CV]  learning_rate=0.001, max_depth=3, n_estimators=50 ..............\n",
      "[CV]   learning_rate=0.001, max_depth=3, n_estimators=50, score=0.731, total=   0.0s\n",
      "[CV]  learning_rate=0.001, max_depth=3, n_estimators=50 ..............\n",
      "[CV]   learning_rate=0.001, max_depth=3, n_estimators=50, score=0.776, total=   0.0s\n",
      "[CV]  learning_rate=0.001, max_depth=3, n_estimators=50 ..............\n",
      "[CV]   learning_rate=0.001, max_depth=3, n_estimators=50, score=0.729, total=   0.0s\n",
      "[CV]  learning_rate=0.001, max_depth=3, n_estimators=50 ..............\n",
      "[CV]   learning_rate=0.001, max_depth=3, n_estimators=50, score=0.785, total=   0.0s\n",
      "[CV]  learning_rate=0.001, max_depth=3, n_estimators=100 .............\n",
      "[CV]   learning_rate=0.001, max_depth=3, n_estimators=100, score=0.815, total=   0.0s\n",
      "[CV]  learning_rate=0.001, max_depth=3, n_estimators=100 .............\n",
      "[CV]   learning_rate=0.001, max_depth=3, n_estimators=100, score=0.722, total=   0.0s\n",
      "[CV]  learning_rate=0.001, max_depth=3, n_estimators=100 .............\n",
      "[CV]   learning_rate=0.001, max_depth=3, n_estimators=100, score=0.776, total=   0.0s\n",
      "[CV]  learning_rate=0.001, max_depth=3, n_estimators=100 .............\n",
      "[CV]   learning_rate=0.001, max_depth=3, n_estimators=100, score=0.720, total=   0.0s\n",
      "[CV]  learning_rate=0.001, max_depth=3, n_estimators=100 .............\n",
      "[CV]   learning_rate=0.001, max_depth=3, n_estimators=100, score=0.785, total=   0.0s\n",
      "[CV]  learning_rate=0.001, max_depth=3, n_estimators=200 .............\n",
      "[CV]   learning_rate=0.001, max_depth=3, n_estimators=200, score=0.778, total=   0.1s\n",
      "[CV]  learning_rate=0.001, max_depth=3, n_estimators=200 .............\n",
      "[CV]   learning_rate=0.001, max_depth=3, n_estimators=200, score=0.741, total=   0.1s\n",
      "[CV]  learning_rate=0.001, max_depth=3, n_estimators=200 .............\n",
      "[CV]   learning_rate=0.001, max_depth=3, n_estimators=200, score=0.757, total=   0.1s\n",
      "[CV]  learning_rate=0.001, max_depth=3, n_estimators=200 .............\n",
      "[CV]   learning_rate=0.001, max_depth=3, n_estimators=200, score=0.720, total=   0.1s\n",
      "[CV]  learning_rate=0.001, max_depth=3, n_estimators=200 .............\n",
      "[CV]   learning_rate=0.001, max_depth=3, n_estimators=200, score=0.757, total=   0.1s\n",
      "[CV]  learning_rate=0.001, max_depth=5, n_estimators=10 ..............\n",
      "[CV]   learning_rate=0.001, max_depth=5, n_estimators=10, score=0.824, total=   0.0s\n",
      "[CV]  learning_rate=0.001, max_depth=5, n_estimators=10 ..............\n",
      "[CV]   learning_rate=0.001, max_depth=5, n_estimators=10, score=0.778, total=   0.0s\n",
      "[CV]  learning_rate=0.001, max_depth=5, n_estimators=10 ..............\n",
      "[CV]   learning_rate=0.001, max_depth=5, n_estimators=10, score=0.776, total=   0.0s\n",
      "[CV]  learning_rate=0.001, max_depth=5, n_estimators=10 ..............\n",
      "[CV]   learning_rate=0.001, max_depth=5, n_estimators=10, score=0.692, total=   0.0s\n",
      "[CV]  learning_rate=0.001, max_depth=5, n_estimators=10 ..............\n",
      "[CV]   learning_rate=0.001, max_depth=5, n_estimators=10, score=0.710, total=   0.0s\n",
      "[CV]  learning_rate=0.001, max_depth=5, n_estimators=50 ..............\n",
      "[CV]   learning_rate=0.001, max_depth=5, n_estimators=50, score=0.833, total=   0.0s\n",
      "[CV]  learning_rate=0.001, max_depth=5, n_estimators=50 ..............\n",
      "[CV]   learning_rate=0.001, max_depth=5, n_estimators=50, score=0.741, total=   0.0s\n",
      "[CV]  learning_rate=0.001, max_depth=5, n_estimators=50 ..............\n",
      "[CV]   learning_rate=0.001, max_depth=5, n_estimators=50, score=0.785, total=   0.0s\n",
      "[CV]  learning_rate=0.001, max_depth=5, n_estimators=50 ..............\n",
      "[CV]   learning_rate=0.001, max_depth=5, n_estimators=50, score=0.738, total=   0.0s\n",
      "[CV]  learning_rate=0.001, max_depth=5, n_estimators=50 ..............\n",
      "[CV]   learning_rate=0.001, max_depth=5, n_estimators=50, score=0.757, total=   0.0s\n",
      "[CV]  learning_rate=0.001, max_depth=5, n_estimators=100 .............\n",
      "[CV]   learning_rate=0.001, max_depth=5, n_estimators=100, score=0.769, total=   0.1s\n",
      "[CV]  learning_rate=0.001, max_depth=5, n_estimators=100 .............\n",
      "[CV]   learning_rate=0.001, max_depth=5, n_estimators=100, score=0.750, total=   0.1s\n",
      "[CV]  learning_rate=0.001, max_depth=5, n_estimators=100 .............\n",
      "[CV]   learning_rate=0.001, max_depth=5, n_estimators=100, score=0.776, total=   0.1s\n",
      "[CV]  learning_rate=0.001, max_depth=5, n_estimators=100 .............\n",
      "[CV]   learning_rate=0.001, max_depth=5, n_estimators=100, score=0.720, total=   0.1s\n",
      "[CV]  learning_rate=0.001, max_depth=5, n_estimators=100 .............\n",
      "[CV]   learning_rate=0.001, max_depth=5, n_estimators=100, score=0.748, total=   0.1s\n",
      "[CV]  learning_rate=0.001, max_depth=5, n_estimators=200 .............\n",
      "[CV]   learning_rate=0.001, max_depth=5, n_estimators=200, score=0.769, total=   0.1s\n",
      "[CV]  learning_rate=0.001, max_depth=5, n_estimators=200 .............\n",
      "[CV]   learning_rate=0.001, max_depth=5, n_estimators=200, score=0.759, total=   0.1s\n",
      "[CV]  learning_rate=0.001, max_depth=5, n_estimators=200 .............\n",
      "[CV]   learning_rate=0.001, max_depth=5, n_estimators=200, score=0.776, total=   0.1s\n",
      "[CV]  learning_rate=0.001, max_depth=5, n_estimators=200 .............\n",
      "[CV]   learning_rate=0.001, max_depth=5, n_estimators=200, score=0.710, total=   0.1s\n",
      "[CV]  learning_rate=0.001, max_depth=5, n_estimators=200 .............\n",
      "[CV]   learning_rate=0.001, max_depth=5, n_estimators=200, score=0.729, total=   0.1s\n",
      "[CV]  learning_rate=0.001, max_depth=10, n_estimators=10 .............\n",
      "[CV]   learning_rate=0.001, max_depth=10, n_estimators=10, score=0.796, total=   0.0s\n",
      "[CV]  learning_rate=0.001, max_depth=10, n_estimators=10 .............\n",
      "[CV]   learning_rate=0.001, max_depth=10, n_estimators=10, score=0.778, total=   0.0s\n",
      "[CV]  learning_rate=0.001, max_depth=10, n_estimators=10 .............\n",
      "[CV]   learning_rate=0.001, max_depth=10, n_estimators=10, score=0.738, total=   0.0s\n",
      "[CV]  learning_rate=0.001, max_depth=10, n_estimators=10 .............\n",
      "[CV]   learning_rate=0.001, max_depth=10, n_estimators=10, score=0.729, total=   0.0s\n",
      "[CV]  learning_rate=0.001, max_depth=10, n_estimators=10 .............\n",
      "[CV]   learning_rate=0.001, max_depth=10, n_estimators=10, score=0.738, total=   0.0s\n",
      "[CV]  learning_rate=0.001, max_depth=10, n_estimators=50 .............\n",
      "[CV]   learning_rate=0.001, max_depth=10, n_estimators=50, score=0.778, total=   0.1s\n",
      "[CV]  learning_rate=0.001, max_depth=10, n_estimators=50 .............\n",
      "[CV]   learning_rate=0.001, max_depth=10, n_estimators=50, score=0.741, total=   0.1s\n",
      "[CV]  learning_rate=0.001, max_depth=10, n_estimators=50 .............\n",
      "[CV]   learning_rate=0.001, max_depth=10, n_estimators=50, score=0.776, total=   0.0s\n",
      "[CV]  learning_rate=0.001, max_depth=10, n_estimators=50 .............\n",
      "[CV]   learning_rate=0.001, max_depth=10, n_estimators=50, score=0.748, total=   0.0s\n",
      "[CV]  learning_rate=0.001, max_depth=10, n_estimators=50 .............\n",
      "[CV]   learning_rate=0.001, max_depth=10, n_estimators=50, score=0.748, total=   0.0s\n",
      "[CV]  learning_rate=0.001, max_depth=10, n_estimators=100 ............\n",
      "[CV]   learning_rate=0.001, max_depth=10, n_estimators=100, score=0.769, total=   0.1s\n",
      "[CV]  learning_rate=0.001, max_depth=10, n_estimators=100 ............\n",
      "[CV]   learning_rate=0.001, max_depth=10, n_estimators=100, score=0.731, total=   0.1s\n",
      "[CV]  learning_rate=0.001, max_depth=10, n_estimators=100 ............\n",
      "[CV]   learning_rate=0.001, max_depth=10, n_estimators=100, score=0.776, total=   0.1s\n",
      "[CV]  learning_rate=0.001, max_depth=10, n_estimators=100 ............\n",
      "[CV]   learning_rate=0.001, max_depth=10, n_estimators=100, score=0.729, total=   0.1s\n",
      "[CV]  learning_rate=0.001, max_depth=10, n_estimators=100 ............\n",
      "[CV]   learning_rate=0.001, max_depth=10, n_estimators=100, score=0.766, total=   0.1s\n",
      "[CV]  learning_rate=0.001, max_depth=10, n_estimators=200 ............\n",
      "[CV]   learning_rate=0.001, max_depth=10, n_estimators=200, score=0.769, total=   0.1s\n",
      "[CV]  learning_rate=0.001, max_depth=10, n_estimators=200 ............\n",
      "[CV]   learning_rate=0.001, max_depth=10, n_estimators=200, score=0.722, total=   0.1s\n",
      "[CV]  learning_rate=0.001, max_depth=10, n_estimators=200 ............\n",
      "[CV]   learning_rate=0.001, max_depth=10, n_estimators=200, score=0.766, total=   0.1s\n",
      "[CV]  learning_rate=0.001, max_depth=10, n_estimators=200 ............\n",
      "[CV]   learning_rate=0.001, max_depth=10, n_estimators=200, score=0.738, total=   0.1s\n",
      "[CV]  learning_rate=0.001, max_depth=10, n_estimators=200 ............\n",
      "[CV]   learning_rate=0.001, max_depth=10, n_estimators=200, score=0.748, total=   0.1s\n",
      "[CV]  learning_rate=0.001, max_depth=20, n_estimators=10 .............\n",
      "[CV]   learning_rate=0.001, max_depth=20, n_estimators=10, score=0.787, total=   0.0s\n",
      "[CV]  learning_rate=0.001, max_depth=20, n_estimators=10 .............\n",
      "[CV]   learning_rate=0.001, max_depth=20, n_estimators=10, score=0.778, total=   0.0s\n",
      "[CV]  learning_rate=0.001, max_depth=20, n_estimators=10 .............\n",
      "[CV]   learning_rate=0.001, max_depth=20, n_estimators=10, score=0.766, total=   0.0s\n",
      "[CV]  learning_rate=0.001, max_depth=20, n_estimators=10 .............\n",
      "[CV]   learning_rate=0.001, max_depth=20, n_estimators=10, score=0.720, total=   0.0s\n",
      "[CV]  learning_rate=0.001, max_depth=20, n_estimators=10 .............\n",
      "[CV]   learning_rate=0.001, max_depth=20, n_estimators=10, score=0.738, total=   0.0s\n",
      "[CV]  learning_rate=0.001, max_depth=20, n_estimators=50 .............\n",
      "[CV]   learning_rate=0.001, max_depth=20, n_estimators=50, score=0.778, total=   0.1s\n",
      "[CV]  learning_rate=0.001, max_depth=20, n_estimators=50 .............\n",
      "[CV]   learning_rate=0.001, max_depth=20, n_estimators=50, score=0.731, total=   0.0s\n",
      "[CV]  learning_rate=0.001, max_depth=20, n_estimators=50 .............\n",
      "[CV]   learning_rate=0.001, max_depth=20, n_estimators=50, score=0.776, total=   0.1s\n",
      "[CV]  learning_rate=0.001, max_depth=20, n_estimators=50 .............\n",
      "[CV]   learning_rate=0.001, max_depth=20, n_estimators=50, score=0.729, total=   0.0s\n",
      "[CV]  learning_rate=0.001, max_depth=20, n_estimators=50 .............\n",
      "[CV]   learning_rate=0.001, max_depth=20, n_estimators=50, score=0.757, total=   0.0s\n",
      "[CV]  learning_rate=0.001, max_depth=20, n_estimators=100 ............\n",
      "[CV]   learning_rate=0.001, max_depth=20, n_estimators=100, score=0.759, total=   0.1s\n",
      "[CV]  learning_rate=0.001, max_depth=20, n_estimators=100 ............\n",
      "[CV]   learning_rate=0.001, max_depth=20, n_estimators=100, score=0.731, total=   0.1s\n",
      "[CV]  learning_rate=0.001, max_depth=20, n_estimators=100 ............\n",
      "[CV]   learning_rate=0.001, max_depth=20, n_estimators=100, score=0.748, total=   0.1s\n",
      "[CV]  learning_rate=0.001, max_depth=20, n_estimators=100 ............\n",
      "[CV]   learning_rate=0.001, max_depth=20, n_estimators=100, score=0.720, total=   0.1s\n",
      "[CV]  learning_rate=0.001, max_depth=20, n_estimators=100 ............\n",
      "[CV]   learning_rate=0.001, max_depth=20, n_estimators=100, score=0.748, total=   0.1s\n",
      "[CV]  learning_rate=0.001, max_depth=20, n_estimators=200 ............\n",
      "[CV]   learning_rate=0.001, max_depth=20, n_estimators=200, score=0.787, total=   0.1s\n",
      "[CV]  learning_rate=0.001, max_depth=20, n_estimators=200 ............\n",
      "[CV]   learning_rate=0.001, max_depth=20, n_estimators=200, score=0.713, total=   0.1s\n",
      "[CV]  learning_rate=0.001, max_depth=20, n_estimators=200 ............\n",
      "[CV]   learning_rate=0.001, max_depth=20, n_estimators=200, score=0.738, total=   0.1s\n",
      "[CV]  learning_rate=0.001, max_depth=20, n_estimators=200 ............\n",
      "[CV]   learning_rate=0.001, max_depth=20, n_estimators=200, score=0.720, total=   0.1s\n",
      "[CV]  learning_rate=0.001, max_depth=20, n_estimators=200 ............\n",
      "[CV]   learning_rate=0.001, max_depth=20, n_estimators=200, score=0.738, total=   0.1s\n"
     ]
    },
    {
     "name": "stderr",
     "output_type": "stream",
     "text": [
      "[Parallel(n_jobs=1)]: Done 400 out of 400 | elapsed:   23.2s finished\n"
     ]
    },
    {
     "data": {
      "text/plain": [
       "GridSearchCV(cv=None, error_score=nan,\n",
       "             estimator=XGBClassifier(base_score=0.5, booster='gbtree',\n",
       "                                     colsample_bylevel=1, colsample_bynode=1,\n",
       "                                     colsample_bytree=1, gamma=0,\n",
       "                                     learning_rate=0.1, max_delta_step=0,\n",
       "                                     max_depth=3, min_child_weight=1,\n",
       "                                     missing=None, n_estimators=100, n_jobs=1,\n",
       "                                     nthread=None, objective='binary:logistic',\n",
       "                                     random_state=0, reg_alpha=0, reg_lambda=1,\n",
       "                                     scale_pos_weight=1, seed=None, silent=None,\n",
       "                                     subsample=1, verbosity=1),\n",
       "             iid='deprecated', n_jobs=None,\n",
       "             param_grid={' learning_rate': [1, 0.5, 0.1, 0.01, 0.001],\n",
       "                         'max_depth': [3, 5, 10, 20],\n",
       "                         'n_estimators': [10, 50, 100, 200]},\n",
       "             pre_dispatch='2*n_jobs', refit=True, return_train_score=False,\n",
       "             scoring=None, verbose=3)"
      ]
     },
     "execution_count": 20,
     "metadata": {
      "tags": []
     },
     "output_type": "execute_result"
    }
   ],
   "source": [
    "grid.fit(train_x,train_y)"
   ]
  },
  {
   "cell_type": "code",
   "execution_count": null,
   "metadata": {
    "colab": {
     "base_uri": "https://localhost:8080/"
    },
    "id": "cwUtstzuMjOl",
    "outputId": "faed9639-9931-4433-deb9-8bacf3c98d7d"
   },
   "outputs": [
    {
     "data": {
      "text/plain": [
       "{' learning_rate': 1, 'max_depth': 5, 'n_estimators': 50}"
      ]
     },
     "execution_count": 21,
     "metadata": {
      "tags": []
     },
     "output_type": "execute_result"
    }
   ],
   "source": [
    "# To  find the parameters giving maximum accuracy\n",
    "grid.best_params_"
   ]
  },
  {
   "cell_type": "code",
   "execution_count": null,
   "metadata": {
    "colab": {
     "base_uri": "https://localhost:8080/"
    },
    "id": "0iBmvDAUMoKW",
    "outputId": "704d25c0-eacf-4938-9497-c7b020de0c6f"
   },
   "outputs": [
    {
     "data": {
      "text/plain": [
       "XGBClassifier(base_score=0.5, booster='gbtree', colsample_bylevel=1,\n",
       "              colsample_bynode=1, colsample_bytree=1, gamma=0, learning_rate=1,\n",
       "              max_delta_step=0, max_depth=5, min_child_weight=1, missing=None,\n",
       "              n_estimators=50, n_jobs=1, nthread=None,\n",
       "              objective='binary:logistic', random_state=0, reg_alpha=0,\n",
       "              reg_lambda=1, scale_pos_weight=1, seed=None, silent=None,\n",
       "              subsample=1, verbosity=1)"
      ]
     },
     "execution_count": 22,
     "metadata": {
      "tags": []
     },
     "output_type": "execute_result"
    }
   ],
   "source": [
    "# Create new model using the same parameters\n",
    "new_model=XGBClassifier(learning_rate= 1, max_depth= 5, n_estimators= 50)\n",
    "new_model.fit(train_x, train_y)"
   ]
  },
  {
   "cell_type": "code",
   "execution_count": null,
   "metadata": {
    "colab": {
     "base_uri": "https://localhost:8080/"
    },
    "id": "GWPlOnVoMsm7",
    "outputId": "326730ee-6f73-4771-f61b-3d768f940f9b"
   },
   "outputs": [
    {
     "data": {
      "text/plain": [
       "0.7445887445887446"
      ]
     },
     "execution_count": 23,
     "metadata": {
      "tags": []
     },
     "output_type": "execute_result"
    }
   ],
   "source": [
    "y_pred_new = new_model.predict(test_x)\n",
    "predictions_new = [round(value) for value in y_pred_new]\n",
    "accuracy_new = accuracy_score(test_y,predictions_new)\n",
    "accuracy_new"
   ]
  },
  {
   "cell_type": "markdown",
   "metadata": {
    "id": "o9Vzw7bBNgoc"
   },
   "source": [
    " main advantages:\n",
    "\n",
    "\n",
    "\n",
    "great computation speed as it utilises parallel computing and cache optimization,\n",
    "uses hardware optimization,\n",
    "\n",
    "works well even if the features are correlated\n",
    "\n",
    "robust even if there is noise for classification problem\n",
    "\n",
    "the facility of early stopping\n",
    "\n",
    "the package is evolving, i.e., new features are being added."
   ]
  },
  {
   "cell_type": "code",
   "execution_count": null,
   "metadata": {
    "id": "4VYLDbKRMyL5"
   },
   "outputs": [],
   "source": []
  }
 ],
 "metadata": {
  "colab": {
   "name": "Xgboost.ipynb",
   "provenance": []
  },
  "kernelspec": {
   "display_name": "Python 3",
   "language": "python",
   "name": "python3"
  },
  "language_info": {
   "codemirror_mode": {
    "name": "ipython",
    "version": 3
   },
   "file_extension": ".py",
   "mimetype": "text/x-python",
   "name": "python",
   "nbconvert_exporter": "python",
   "pygments_lexer": "ipython3",
   "version": "3.8.5"
  }
 },
 "nbformat": 4,
 "nbformat_minor": 1
}
